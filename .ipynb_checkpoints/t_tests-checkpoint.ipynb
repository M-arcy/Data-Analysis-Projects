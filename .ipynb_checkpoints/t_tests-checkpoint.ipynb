{
 "cells": [
  {
   "cell_type": "markdown",
   "id": "ec1ad30c-0520-4559-bd4b-fdd91d31422a",
   "metadata": {},
   "source": [
    "<hr style = \"height: 10px; border: 1; box-shadow: inset 0 9px 9px -3px rgba(250, 128, 114, 0.8); -webkit-border-radius: 5px;\n",
    "-moz-border-radius: 5px; -ms-border-radius: 5px; -o-border-radius: 5px; border-radius: 5px\">\n",
    "### Table of Contents <a class=\"anchor\" id=\"t_tests_toc\"></a>\n",
    "\n",
    "* [Table of Contents](#t_tests_toc)\n",
    "    * [Page 1 - Single Sample t test](#t_tests_page_1)\n",
    "    * [Page 2 - Independent t test](#t_tests_page_2)\n",
    "    * [Page 3 -  Dependent t test](#t_tests_page_3)\n",
    "    * [Page 4 - Independent Chi Squares](#t_tests_page_4)\n",
    "    * [Page 5 - ](#t_tests_page_5)\n",
    "    * [Page 6 - ](#t_tests_page_6)\n",
    "    * [Page 7 - ](#t_tests_page_7)\n",
    "    * [Page 8 - ](#t_tests_page_8)\n",
    "    * [Page 9 - Quiz](#t_tests_page_9)\n",
    "    \n",
    "<hr style = \"height: 10px; border: 1; box-shadow: inset 0 9px 9px -3px rgba(250, 128, 114, 0.8); -webkit-border-radius: 5px;\n",
    "-moz-border-radius: 5px; -ms-border-radius: 5px; -o-border-radius: 5px; border-radius: 5px\">"
   ]
  },
  {
   "cell_type": "markdown",
   "id": "f1e6970d-0bf8-41b1-b9aa-0016abc318b8",
   "metadata": {},
   "source": [
    "<hr style = \"height: 10px; border: 1; box-shadow: inset 0 9px 9px -3px rgba(11, 99, 184, 0.8); -webkit-border-radius: 5px;\n",
    "-moz-border-radius: 5px; -ms-border-radius: 5px; -o-border-radius: 5px; border-radius: 5px\">\n",
    "# Page 1 - Introduction <a class=\"anchor\" id=\"t_tests_page_1\"></a>\n",
    "\n",
    "[Back to Top](#t_tests_toc)\n",
    "\n",
    "<hr style = \"height: 10px; border: 1; box-shadow: inset 0 9px 9px -3px rgba(11, 99, 184, 0.8); -webkit-border-radius: 5px;\n",
    "-moz-border-radius: 5px; -ms-border-radius: 5px; -o-border-radius: 5px; border-radius: 5px\">"
   ]
  },
  {
   "cell_type": "code",
   "execution_count": null,
   "id": "6224da45-2091-41f8-a3aa-7ef99a2b499b",
   "metadata": {},
   "outputs": [],
   "source": []
  },
  {
   "cell_type": "code",
   "execution_count": null,
   "id": "638a7d9f-6cf9-429c-9234-ec9f939f0e1a",
   "metadata": {},
   "outputs": [],
   "source": []
  },
  {
   "cell_type": "markdown",
   "id": "dc02ed8e-dc9e-487d-bfc6-8974dbc3d947",
   "metadata": {},
   "source": [
    "Using a single sample t test to determine whether a cost of $25,000 for a hybrid vehicle in 2013 is different than the mean cost."
   ]
  },
  {
   "cell_type": "code",
   "execution_count": 8,
   "id": "402ab7e2-1b20-4c52-ba4a-92dc5fd8a544",
   "metadata": {},
   "outputs": [],
   "source": [
    "import pandas as pd\n",
    "import numpy as np\n",
    "import seaborn as sns\n",
    "from scipy.stats import norm\n",
    "from scipy import stats"
   ]
  },
  {
   "cell_type": "code",
   "execution_count": null,
   "id": "6faf4724-94f7-455b-825a-332cc43da7d6",
   "metadata": {},
   "outputs": [],
   "source": []
  },
  {
   "cell_type": "code",
   "execution_count": 3,
   "id": "b74d7bea-bf17-4412-bb88-3adfed086c93",
   "metadata": {},
   "outputs": [],
   "source": [
    "hybrid = pd.read_excel(\"DATA/hybrid2013.xlsx\")"
   ]
  },
  {
   "cell_type": "code",
   "execution_count": 4,
   "id": "c1d4c363-92af-4922-9497-a9eb6cd0d4e3",
   "metadata": {},
   "outputs": [
    {
     "data": {
      "text/html": [
       "<div>\n",
       "<style scoped>\n",
       "    .dataframe tbody tr th:only-of-type {\n",
       "        vertical-align: middle;\n",
       "    }\n",
       "\n",
       "    .dataframe tbody tr th {\n",
       "        vertical-align: top;\n",
       "    }\n",
       "\n",
       "    .dataframe thead th {\n",
       "        text-align: right;\n",
       "    }\n",
       "</style>\n",
       "<table border=\"1\" class=\"dataframe\">\n",
       "  <thead>\n",
       "    <tr style=\"text-align: right;\">\n",
       "      <th></th>\n",
       "      <th>carid</th>\n",
       "      <th>vehicle</th>\n",
       "      <th>year</th>\n",
       "      <th>msrp</th>\n",
       "      <th>accelrate</th>\n",
       "      <th>mpg</th>\n",
       "      <th>mpgmpge</th>\n",
       "      <th>carclass</th>\n",
       "      <th>carclass_id</th>\n",
       "    </tr>\n",
       "  </thead>\n",
       "  <tbody>\n",
       "    <tr>\n",
       "      <th>0</th>\n",
       "      <td>111</td>\n",
       "      <td>Prius C</td>\n",
       "      <td>2013</td>\n",
       "      <td>19080</td>\n",
       "      <td>8.70</td>\n",
       "      <td>50</td>\n",
       "      <td>50</td>\n",
       "      <td>C</td>\n",
       "      <td>1</td>\n",
       "    </tr>\n",
       "    <tr>\n",
       "      <th>1</th>\n",
       "      <td>112</td>\n",
       "      <td>Jetta</td>\n",
       "      <td>2013</td>\n",
       "      <td>24995</td>\n",
       "      <td>12.66</td>\n",
       "      <td>45</td>\n",
       "      <td>45</td>\n",
       "      <td>C</td>\n",
       "      <td>1</td>\n",
       "    </tr>\n",
       "    <tr>\n",
       "      <th>2</th>\n",
       "      <td>113</td>\n",
       "      <td>Civic</td>\n",
       "      <td>2013</td>\n",
       "      <td>24360</td>\n",
       "      <td>10.20</td>\n",
       "      <td>44</td>\n",
       "      <td>44</td>\n",
       "      <td>C</td>\n",
       "      <td>1</td>\n",
       "    </tr>\n",
       "    <tr>\n",
       "      <th>3</th>\n",
       "      <td>114</td>\n",
       "      <td>Prius</td>\n",
       "      <td>2013</td>\n",
       "      <td>24200</td>\n",
       "      <td>10.20</td>\n",
       "      <td>50</td>\n",
       "      <td>50</td>\n",
       "      <td>M</td>\n",
       "      <td>3</td>\n",
       "    </tr>\n",
       "    <tr>\n",
       "      <th>4</th>\n",
       "      <td>115</td>\n",
       "      <td>Fusion FWD</td>\n",
       "      <td>2013</td>\n",
       "      <td>27200</td>\n",
       "      <td>11.72</td>\n",
       "      <td>47</td>\n",
       "      <td>47</td>\n",
       "      <td>M</td>\n",
       "      <td>3</td>\n",
       "    </tr>\n",
       "  </tbody>\n",
       "</table>\n",
       "</div>"
      ],
      "text/plain": [
       "   carid     vehicle  year   msrp  accelrate  mpg  mpgmpge carclass  \\\n",
       "0    111     Prius C  2013  19080       8.70   50       50        C   \n",
       "1    112       Jetta  2013  24995      12.66   45       45        C   \n",
       "2    113       Civic  2013  24360      10.20   44       44        C   \n",
       "3    114       Prius  2013  24200      10.20   50       50        M   \n",
       "4    115  Fusion FWD  2013  27200      11.72   47       47        M   \n",
       "\n",
       "   carclass_id  \n",
       "0            1  \n",
       "1            1  \n",
       "2            1  \n",
       "3            3  \n",
       "4            3  "
      ]
     },
     "execution_count": 4,
     "metadata": {},
     "output_type": "execute_result"
    }
   ],
   "source": [
    "hybrid.head()"
   ]
  },
  {
   "cell_type": "markdown",
   "id": "5e678854-06c8-4138-ad80-fe5a149af3df",
   "metadata": {},
   "source": [
    "The only assumption for the single sample t test is that the data is normally distributed. You can test this just by creating a histogram:"
   ]
  },
  {
   "cell_type": "code",
   "execution_count": 7,
   "id": "7f792d56-8b8f-4b60-8ce7-58cbe56de46e",
   "metadata": {},
   "outputs": [
    {
     "data": {
      "text/plain": [
       "<AxesSubplot:>"
      ]
     },
     "execution_count": 7,
     "metadata": {},
     "output_type": "execute_result"
    },
    {
     "data": {
      "image/png": "[encoded data removed]",
      "text/plain": [
       "<Figure size 432x288 with 1 Axes>"
      ]
     },
     "metadata": {
      "needs_background": "light"
     },
     "output_type": "display_data"
    }
   ],
   "source": [
    "hybrid.msrp.hist()"
   ]
  },
  {
   "cell_type": "markdown",
   "id": "7930ced8-969c-4630-9162-520a75827f53",
   "metadata": {},
   "source": [
    "I do prefer a fitted curve, which Seaborn has available:"
   ]
  },
  {
   "cell_type": "code",
   "execution_count": 12,
   "id": "f79ec4b2-f028-435d-a3f9-79f99cc384b8",
   "metadata": {},
   "outputs": [
    {
     "name": "stderr",
     "output_type": "stream",
     "text": [
      "C:\\Python3\\lib\\site-packages\\seaborn\\distributions.py:2619: FutureWarning: `distplot` is a deprecated function and will be removed in a future version. Please adapt your code to use either `displot` (a figure-level function with similar flexibility) or `histplot` (an axes-level function for histograms).\n",
      "  warnings.warn(msg, FutureWarning)\n"
     ]
    },
    {
     "data": {
      "text/plain": [
       "<AxesSubplot:xlabel='msrp', ylabel='Density'>"
      ]
     },
     "execution_count": 12,
     "metadata": {},
     "output_type": "execute_result"
    },
    {
     "data": {
      "image/png": "[encoded data removed]",
      "text/plain": [
       "<Figure size 432x288 with 1 Axes>"
      ]
     },
     "metadata": {
      "needs_background": "light"
     },
     "output_type": "display_data"
    }
   ],
   "source": [
    "sns.distplot(hybrid.msrp)"
   ]
  },
  {
   "cell_type": "markdown",
   "id": "be02c22f-611b-4445-a1a3-a43544c40205",
   "metadata": {},
   "source": [
    "It is still positively skewed, and somewhat bimodal as well, but we can try to fix this by taking the square root of the data."
   ]
  },
  {
   "cell_type": "code",
   "execution_count": 14,
   "id": "73a067ae-50cb-4c8f-b514-c89c8b68b396",
   "metadata": {},
   "outputs": [],
   "source": [
    "hybrid['msrpSQRT'] = np.sqrt(hybrid['msrp'])"
   ]
  },
  {
   "cell_type": "code",
   "execution_count": 15,
   "id": "e1abcc2b-5516-4a48-a94f-11c041cedaf2",
   "metadata": {},
   "outputs": [
    {
     "name": "stderr",
     "output_type": "stream",
     "text": [
      "C:\\Python3\\lib\\site-packages\\seaborn\\distributions.py:2619: FutureWarning: `distplot` is a deprecated function and will be removed in a future version. Please adapt your code to use either `displot` (a figure-level function with similar flexibility) or `histplot` (an axes-level function for histograms).\n",
      "  warnings.warn(msg, FutureWarning)\n"
     ]
    },
    {
     "data": {
      "text/plain": [
       "<AxesSubplot:xlabel='msrpSQRT', ylabel='Density'>"
      ]
     },
     "execution_count": 15,
     "metadata": {},
     "output_type": "execute_result"
    },
    {
     "data": {
      "image/png": "[encoded data removed]",
      "text/plain": [
       "<Figure size 432x288 with 1 Axes>"
      ]
     },
     "metadata": {
      "needs_background": "light"
     },
     "output_type": "display_data"
    }
   ],
   "source": [
    "sns.distplot(hybrid['msrpSQRT'])"
   ]
  },
  {
   "cell_type": "code",
   "execution_count": 16,
   "id": "43720595-d743-4523-b17c-6085e487d423",
   "metadata": {},
   "outputs": [],
   "source": [
    "#That didn't do much -  trying LOG \n",
    "hybrid['msrpLOG'] = np.log(hybrid['msrp'])"
   ]
  },
  {
   "cell_type": "code",
   "execution_count": 18,
   "id": "af72aea3-6af4-4fbb-a696-d94768ecd85e",
   "metadata": {},
   "outputs": [
    {
     "name": "stderr",
     "output_type": "stream",
     "text": [
      "C:\\Python3\\lib\\site-packages\\seaborn\\distributions.py:2619: FutureWarning: `distplot` is a deprecated function and will be removed in a future version. Please adapt your code to use either `displot` (a figure-level function with similar flexibility) or `histplot` (an axes-level function for histograms).\n",
      "  warnings.warn(msg, FutureWarning)\n"
     ]
    },
    {
     "data": {
      "text/plain": [
       "<AxesSubplot:xlabel='msrpLOG', ylabel='Density'>"
      ]
     },
     "execution_count": 18,
     "metadata": {},
     "output_type": "execute_result"
    },
    {
     "data": {
      "image/png": "[encoded data removed]",
      "text/plain": [
       "<Figure size 432x288 with 1 Axes>"
      ]
     },
     "metadata": {
      "needs_background": "light"
     },
     "output_type": "display_data"
    }
   ],
   "source": [
    "sns.distplot(hybrid['msrpLOG'])"
   ]
  },
  {
   "cell_type": "markdown",
   "id": "f3e906e3-c63c-44a2-8d22-898c87d74572",
   "metadata": {},
   "source": [
    "Ok, that's better, anyway. On to the single sample t test, which determines if one value is different than the mean of the population, which in this case is $25,000."
   ]
  },
  {
   "cell_type": "code",
   "execution_count": 20,
   "id": "616bce35-eefd-4969-8722-f42bfce6c422",
   "metadata": {},
   "outputs": [
    {
     "data": {
      "text/plain": [
       "Ttest_1sampResult(statistic=6.003733172775179, pvalue=3.923180751883552e-07)"
      ]
     },
     "execution_count": 20,
     "metadata": {},
     "output_type": "execute_result"
    }
   ],
   "source": [
    "stats.ttest_1samp(hybrid['msrp'], 25000)"
   ]
  },
  {
   "cell_type": "markdown",
   "id": "2028bb05-0016-4ed1-b8e7-619035ffe707",
   "metadata": {},
   "source": [
    "With a threshold set at .05, this is significant at p < .05. That means that buying a hybrid car for $25,000 in 2013 is different than the population mean. Is it higher or lower? To answer that question, you will need to examine the population mean:"
   ]
  },
  {
   "cell_type": "code",
   "execution_count": 19,
   "id": "1b1ad746-502e-48ac-9baa-677ab456c9fa",
   "metadata": {},
   "outputs": [
    {
     "data": {
      "text/plain": [
       "42943.48837209302"
      ]
     },
     "execution_count": 19,
     "metadata": {},
     "output_type": "execute_result"
    }
   ],
   "source": [
    "hybrid.msrp.mean()"
   ]
  },
  {
   "cell_type": "markdown",
   "id": "0b049048-6f76-4b3f-826b-13f2a1f6b240",
   "metadata": {},
   "source": [
    "With an average cost, or population mean of just under 43,000 dollars, buying one for $25,000 would have been a great deal. "
   ]
  },
  {
   "cell_type": "markdown",
   "id": "4309000f-c605-43c0-91f2-b4842e230c47",
   "metadata": {},
   "source": [
    "Now, to determine whether a miles per gallon (mpg) rating of 40 is unusual for a hybrid car on the market in 2013. To do this, you will need to test for the assumption of normality by creating a histogram, and then run a single sample ttest, as before. "
   ]
  },
  {
   "cell_type": "code",
   "execution_count": 21,
   "id": "49317451-00ad-4b36-95e5-04700b55ab0a",
   "metadata": {},
   "outputs": [
    {
     "data": {
      "text/plain": [
       "<AxesSubplot:>"
      ]
     },
     "execution_count": 21,
     "metadata": {},
     "output_type": "execute_result"
    },
    {
     "data": {
      "image/png": "[encoded data removed]",
      "text/plain": [
       "<Figure size 432x288 with 1 Axes>"
      ]
     },
     "metadata": {
      "needs_background": "light"
     },
     "output_type": "display_data"
    }
   ],
   "source": [
    "hybrid.mpg.hist()"
   ]
  },
  {
   "cell_type": "code",
   "execution_count": 23,
   "id": "4989a066-0d75-4012-8ca8-43d8d9756a2e",
   "metadata": {},
   "outputs": [
    {
     "name": "stderr",
     "output_type": "stream",
     "text": [
      "C:\\Python3\\lib\\site-packages\\seaborn\\distributions.py:2619: FutureWarning: `distplot` is a deprecated function and will be removed in a future version. Please adapt your code to use either `displot` (a figure-level function with similar flexibility) or `histplot` (an axes-level function for histograms).\n",
      "  warnings.warn(msg, FutureWarning)\n"
     ]
    },
    {
     "data": {
      "text/plain": [
       "<AxesSubplot:xlabel='mpg', ylabel='Density'>"
      ]
     },
     "execution_count": 23,
     "metadata": {},
     "output_type": "execute_result"
    },
    {
     "data": {
      "image/png": "[encoded data removed]",
      "text/plain": [
       "<Figure size 432x288 with 1 Axes>"
      ]
     },
     "metadata": {
      "needs_background": "light"
     },
     "output_type": "display_data"
    }
   ],
   "source": [
    "sns.distplot(hybrid['mpg'])"
   ]
  },
  {
   "cell_type": "code",
   "execution_count": 26,
   "id": "6117dfc1-4ce5-4b9b-af69-90eb89ac4b2d",
   "metadata": {},
   "outputs": [],
   "source": [
    "hybrid['mpgSQRT'] = np.sqrt(hybrid['mpg'])"
   ]
  },
  {
   "cell_type": "code",
   "execution_count": 27,
   "id": "7c142aa8-447d-4967-af86-200efa02a87a",
   "metadata": {},
   "outputs": [
    {
     "data": {
      "text/plain": [
       "<AxesSubplot:>"
      ]
     },
     "execution_count": 27,
     "metadata": {},
     "output_type": "execute_result"
    },
    {
     "data": {
      "image/png": "[encoded data removed]",
      "text/plain": [
       "<Figure size 432x288 with 1 Axes>"
      ]
     },
     "metadata": {
      "needs_background": "light"
     },
     "output_type": "display_data"
    }
   ],
   "source": [
    "hybrid['mpgSQRT'].hist()"
   ]
  },
  {
   "cell_type": "markdown",
   "id": "0332cb3e-691e-4a1d-94ca-470f2f1f7ea6",
   "metadata": {},
   "source": [
    "I just wanted to illustrate that taking the square root or logarithm of a bimodal distribution doesn't change a thing, so we'll go with mpg column as-is.  Forty mpg is the population average. "
   ]
  },
  {
   "cell_type": "code",
   "execution_count": 28,
   "id": "a929de7e-92c9-44ea-af96-6210068fa29e",
   "metadata": {},
   "outputs": [
    {
     "data": {
      "text/plain": [
       "Ttest_1sampResult(statistic=-4.427320491687408, pvalue=6.67005084670698e-05)"
      ]
     },
     "execution_count": 28,
     "metadata": {},
     "output_type": "execute_result"
    }
   ],
   "source": [
    "stats.ttest_1samp(hybrid['mpg'], 40)"
   ]
  },
  {
   "cell_type": "markdown",
   "id": "e1fbbe64-a7a1-47f9-9c57-a3398745c7a8",
   "metadata": {},
   "source": [
    "With a threshold set at .05, this is not significant at p > .05. That means that the miles per gallon for a hybrid car in 2013 is not significantly different than the population mean. Is it any higher or lower at all? To answer that question, we will need to examine the population mean:"
   ]
  },
  {
   "cell_type": "code",
   "execution_count": 29,
   "id": "fb1f6c0b-4a4d-4179-a79d-0a806e326587",
   "metadata": {},
   "outputs": [
    {
     "data": {
      "text/plain": [
       "33.48837209302326"
      ]
     },
     "execution_count": 29,
     "metadata": {},
     "output_type": "execute_result"
    }
   ],
   "source": [
    "hybrid.mpg.mean()"
   ]
  },
  {
   "cell_type": "markdown",
   "id": "0579a837-1fbb-4ece-a328-331067d1f405",
   "metadata": {},
   "source": [
    "Every mile counts, though, right?"
   ]
  },
  {
   "cell_type": "markdown",
   "id": "78942a4d-5bbd-479c-a4f7-77f8027730ac",
   "metadata": {},
   "source": [
    "<hr style = \"height: 10px; border: 1; box-shadow: inset 0 9px 9px -3px rgba(250, 128, 114, 0.8); -webkit-border-radius: 5px;\n",
    "-moz-border-radius: 5px; -ms-border-radius: 5px; -o-border-radius: 5px; border-radius: 5px\">\n",
    "\n",
    "# Page 2 - Independent t tests <a class=\"anchor\" id=\"t_tests_page_2\"></a>\n",
    "\n",
    "[Back to Top](#t_tests_toc)\n",
    "\n",
    "<hr style = \"height: 10px; border: 1; box-shadow: inset 0 9px 9px -3px rgba(250, 128, 114, 0.8); -webkit-border-radius: 5px;\n",
    "-moz-border-radius: 5px; -ms-border-radius: 5px; -o-border-radius: 5px; border-radius: 5px\">"
   ]
  },
  {
   "cell_type": "markdown",
   "id": "118117d1-75a3-468f-87c9-af7c1f811b93",
   "metadata": {},
   "source": [
    "## Independendent t tests"
   ]
  },
  {
   "cell_type": "markdown",
   "id": "8b8ee3b4-706b-4263-ae86-bd49663dfde0",
   "metadata": {},
   "source": [
    "An independent t test is used when you have one independent variable that is categorical and a grouping variable, and one dependent continuous variable. Use an independent t-test when you want to determine whether the means of two different, unrelated groups are the same or different."
   ]
  },
  {
   "cell_type": "code",
   "execution_count": 31,
   "id": "d05f38bc-240a-44f8-b907-6c532ef9168f",
   "metadata": {},
   "outputs": [],
   "source": [
    "from scipy.stats import ttest_ind"
   ]
  },
  {
   "cell_type": "markdown",
   "id": "97ac6bc0-b009-4c8c-9987-0231d92f675b",
   "metadata": {},
   "source": [
    "## Test Assumptions \n",
    "\n",
    "The only assumption that independent *t* has is normality.  You will need to test normality for each of your groups - compact and mid-sized hybrid cars.  \n",
    "\n",
    "This code is very similar to before, but has an extra layer of specifying which values from the ```carclass``` you want to examine: "
   ]
  },
  {
   "cell_type": "code",
   "execution_count": 33,
   "id": "9baf7efb-4f5a-4163-a396-9eb25338670f",
   "metadata": {},
   "outputs": [
    {
     "data": {
      "text/plain": [
       "<AxesSubplot:>"
      ]
     },
     "execution_count": 33,
     "metadata": {},
     "output_type": "execute_result"
    },
    {
     "data": {
      "image/png": "[encoded data removed]",
      "text/plain": [
       "<Figure size 432x288 with 1 Axes>"
      ]
     },
     "metadata": {
      "needs_background": "light"
     },
     "output_type": "display_data"
    }
   ],
   "source": [
    "hybrid.mpg[hybrid.carclass == 'C'].hist()\n"
   ]
  },
  {
   "cell_type": "code",
   "execution_count": 34,
   "id": "ad078d74-4983-4093-9299-20499fbb1cce",
   "metadata": {},
   "outputs": [
    {
     "data": {
      "text/plain": [
       "<AxesSubplot:>"
      ]
     },
     "execution_count": 34,
     "metadata": {},
     "output_type": "execute_result"
    },
    {
     "data": {
      "image/png": "[encoded data removed]",
      "text/plain": [
       "<Figure size 432x288 with 1 Axes>"
      ]
     },
     "metadata": {
      "needs_background": "light"
     },
     "output_type": "display_data"
    }
   ],
   "source": [
    "# Same thing for the mid-size hybrid cars:\n",
    "\n",
    " \n",
    "hybrid.mpg[hybrid.carclass == 'M'].hist()\n",
    "# This time, we are testing to see whether compact and mid-size hybrid cars differ in their average miles per gallon."
   ]
  },
  {
   "cell_type": "markdown",
   "id": "2064ec4d-8abd-463e-84ff-08906ba46e29",
   "metadata": {},
   "source": [
    "Neither of these are normally distributed, but we'll continue for the sake of the example. "
   ]
  },
  {
   "cell_type": "code",
   "execution_count": 35,
   "id": "90893c0b-81fe-4922-8fe7-222eb6a395ab",
   "metadata": {},
   "outputs": [
    {
     "data": {
      "text/plain": [
       "Ttest_indResult(statistic=1.0751886097093057, pvalue=0.29216712457079796)"
      ]
     },
     "execution_count": 35,
     "metadata": {},
     "output_type": "execute_result"
    }
   ],
   "source": [
    "ttest_ind(hybrid.mpg[hybrid.carclass == 'C'], hybrid.mpg[hybrid.carclass == 'M'])"
   ]
  },
  {
   "cell_type": "markdown",
   "id": "5963b39b-b69d-4ce1-9b82-7560b2ea0139",
   "metadata": {},
   "source": [
    "The p value > .05, which means there is no significant difference between mid and compact size cars in terms of mpg. The t statistic is pretty small as well - another good indication. "
   ]
  },
  {
   "cell_type": "markdown",
   "id": "c7554e8e-bb2f-440a-ba61-01d49de73ec9",
   "metadata": {},
   "source": [
    "Now, let's run an independent t-test to see if the miles per gallon differ between compact (C) and large (L) cars. I'm skipping the histogram, since I would run the t test regardless. "
   ]
  },
  {
   "cell_type": "code",
   "execution_count": 36,
   "id": "83cb09ff-4773-4c01-8091-dd963e78c02b",
   "metadata": {},
   "outputs": [
    {
     "data": {
      "text/plain": [
       "Ttest_indResult(statistic=2.598820461640718, pvalue=0.026545168887970098)"
      ]
     },
     "execution_count": 36,
     "metadata": {},
     "output_type": "execute_result"
    }
   ],
   "source": [
    "ttest_ind(hybrid.mpg[hybrid.carclass == 'C'], hybrid.mpg[hybrid.carclass == 'L'])"
   ]
  },
  {
   "cell_type": "markdown",
   "id": "9830cd2e-3476-418c-99a1-c2a828acce39",
   "metadata": {},
   "source": [
    "Since the p value here is < .05, and the t statistic is larger, as well, we can conclude that there is a difference in the mph of large and compact hybrid cars. "
   ]
  },
  {
   "cell_type": "markdown",
   "id": "e431fca7-ff8d-4dcf-9b9e-829ca6af088e",
   "metadata": {},
   "source": [
    "It seems an obvious assumption, but let's compare the means of each class of cars to see exactly what the difference is between them. "
   ]
  },
  {
   "cell_type": "code",
   "execution_count": 44,
   "id": "03dc8374-89ed-41f4-ad6a-2b908acd8dbf",
   "metadata": {},
   "outputs": [
    {
     "data": {
      "text/plain": [
       "40.75"
      ]
     },
     "execution_count": 44,
     "metadata": {},
     "output_type": "execute_result"
    }
   ],
   "source": [
    "hybrid.mpg[hybrid.carclass == 'C'].mean()\n",
    "\n"
   ]
  },
  {
   "cell_type": "code",
   "execution_count": 45,
   "id": "db5b00b4-5ba1-435c-aa2b-0162183494ca",
   "metadata": {},
   "outputs": [
    {
     "data": {
      "text/plain": [
       "28.5"
      ]
     },
     "execution_count": 45,
     "metadata": {},
     "output_type": "execute_result"
    }
   ],
   "source": [
    "hybrid.mpg[hybrid.carclass == 'L'].mean()"
   ]
  },
  {
   "cell_type": "code",
   "execution_count": 46,
   "id": "1ef8d3ff-e2ff-41a9-a339-d96185b8a170",
   "metadata": {},
   "outputs": [
    {
     "data": {
      "text/plain": [
       "12.25"
      ]
     },
     "execution_count": 46,
     "metadata": {},
     "output_type": "execute_result"
    }
   ],
   "source": [
    "40.75 - 28.5\n"
   ]
  },
  {
   "cell_type": "markdown",
   "id": "2a632833-8b99-47c2-9d1c-35474913eb0e",
   "metadata": {},
   "source": [
    "We see that compact hybrid cars get 12.25 additional miles to the gallon over large hybrid cars in 2013."
   ]
  },
  {
   "cell_type": "markdown",
   "id": "3ec12dd6-3159-43da-b33d-24af51daf034",
   "metadata": {},
   "source": [
    "<hr style = \"height: 10px; border: 1; box-shadow: inset 0 9px 9px -3px rgba(11, 99, 184, 0.8); -webkit-border-radius: 5px;\n",
    "-moz-border-radius: 5px; -ms-border-radius: 5px; -o-border-radius: 5px; border-radius: 5px\">\n",
    "# Page 3 - Dependent t tests <a class=\"anchor\" id=\"t_tests_page_3\"></a>\n",
    "\n",
    "[Back to Top](#t_tests_toc)\n",
    "\n",
    "<hr style = \"height: 10px; border: 1; box-shadow: inset 0 9px 9px -3px rgba(11, 99, 184, 0.8); -webkit-border-radius: 5px;\n",
    "-moz-border-radius: 5px; -ms-border-radius: 5px; -o-border-radius: 5px; border-radius: 5px\">"
   ]
  },
  {
   "cell_type": "markdown",
   "id": "ffbf141a-f134-4f7e-adcc-11449e8cf756",
   "metadata": {},
   "source": [
    "<hr style = \"height: 10px; border: 1; box-shadow: inset 0 9px 9px -3px rgba(11, 99, 184, 0.8); -webkit-border-radius: 5px;\n",
    "-moz-border-radius: 5px; -ms-border-radius: 5px; -o-border-radius: 5px; border-radius: 5px\">\n",
    "\n",
    "[link for creative banners](https://www.formget.com/css-hr/)\n",
    "\n"
   ]
  },
  {
   "cell_type": "markdown",
   "id": "bc187440-047e-43a7-9227-66d58d6e1199",
   "metadata": {},
   "source": [
    "## Dependent t tests"
   ]
  },
  {
   "cell_type": "markdown",
   "id": "b1766072-f1a1-4fbf-818b-81fc8e8430c4",
   "metadata": {},
   "source": [
    "Dependent t-tests are used when your samples are related in some way, but you still want to see if the means change. It may be change over time, or change with treatment, etc. A dependent t requires an independent variable that is categorical (groups to compare) and a dependent variable that is continuous.  \"Before and after\" type experiments are perfectly suited for dependent t tests. "
   ]
  },
  {
   "cell_type": "code",
   "execution_count": 49,
   "id": "874859e9-aab9-42ac-8dd8-439012b45e57",
   "metadata": {},
   "outputs": [],
   "source": [
    "hybrid2 = pd.read_excel(\"DATA/hybrid2012-13.xlsx\")"
   ]
  },
  {
   "cell_type": "code",
   "execution_count": 50,
   "id": "4c7b84e6-60e6-45bd-a5ee-7114b023656c",
   "metadata": {},
   "outputs": [
    {
     "data": {
      "text/html": [
       "<div>\n",
       "<style scoped>\n",
       "    .dataframe tbody tr th:only-of-type {\n",
       "        vertical-align: middle;\n",
       "    }\n",
       "\n",
       "    .dataframe tbody tr th {\n",
       "        vertical-align: top;\n",
       "    }\n",
       "\n",
       "    .dataframe thead th {\n",
       "        text-align: right;\n",
       "    }\n",
       "</style>\n",
       "<table border=\"1\" class=\"dataframe\">\n",
       "  <thead>\n",
       "    <tr style=\"text-align: right;\">\n",
       "      <th></th>\n",
       "      <th>vehicle</th>\n",
       "      <th>msrp2012</th>\n",
       "      <th>accelrate2012</th>\n",
       "      <th>mpg2012</th>\n",
       "      <th>mpgmpge2012</th>\n",
       "      <th>carclass2012</th>\n",
       "      <th>carclass_id2012</th>\n",
       "      <th>msrp2013</th>\n",
       "      <th>accelrate2013</th>\n",
       "      <th>mpg2013</th>\n",
       "      <th>mpgmpge2013</th>\n",
       "      <th>carclass2013</th>\n",
       "      <th>carclass_id2013</th>\n",
       "    </tr>\n",
       "  </thead>\n",
       "  <tbody>\n",
       "    <tr>\n",
       "      <th>0</th>\n",
       "      <td>ActiveHybrid 3</td>\n",
       "      <td>19006.62</td>\n",
       "      <td>9.35</td>\n",
       "      <td>50</td>\n",
       "      <td>50</td>\n",
       "      <td>C</td>\n",
       "      <td>1</td>\n",
       "      <td>19080</td>\n",
       "      <td>8.70</td>\n",
       "      <td>50</td>\n",
       "      <td>50</td>\n",
       "      <td>C</td>\n",
       "      <td>1</td>\n",
       "    </tr>\n",
       "    <tr>\n",
       "      <th>1</th>\n",
       "      <td>ActiveHybrid 5</td>\n",
       "      <td>32095.61</td>\n",
       "      <td>8.82</td>\n",
       "      <td>50</td>\n",
       "      <td>95</td>\n",
       "      <td>M</td>\n",
       "      <td>3</td>\n",
       "      <td>24995</td>\n",
       "      <td>12.66</td>\n",
       "      <td>45</td>\n",
       "      <td>45</td>\n",
       "      <td>C</td>\n",
       "      <td>1</td>\n",
       "    </tr>\n",
       "    <tr>\n",
       "      <th>2</th>\n",
       "      <td>Ampera</td>\n",
       "      <td>31739.55</td>\n",
       "      <td>11.11</td>\n",
       "      <td>37</td>\n",
       "      <td>98</td>\n",
       "      <td>C</td>\n",
       "      <td>1</td>\n",
       "      <td>24200</td>\n",
       "      <td>10.20</td>\n",
       "      <td>50</td>\n",
       "      <td>50</td>\n",
       "      <td>M</td>\n",
       "      <td>3</td>\n",
       "    </tr>\n",
       "    <tr>\n",
       "      <th>3</th>\n",
       "      <td>Camry LE</td>\n",
       "      <td>62180.23</td>\n",
       "      <td>16.67</td>\n",
       "      <td>26</td>\n",
       "      <td>26</td>\n",
       "      <td>M</td>\n",
       "      <td>3</td>\n",
       "      <td>18600</td>\n",
       "      <td>11.76</td>\n",
       "      <td>42</td>\n",
       "      <td>42</td>\n",
       "      <td>C</td>\n",
       "      <td>1</td>\n",
       "    </tr>\n",
       "    <tr>\n",
       "      <th>4</th>\n",
       "      <td>Chevrolet Volt</td>\n",
       "      <td>59126.14</td>\n",
       "      <td>16.95</td>\n",
       "      <td>31</td>\n",
       "      <td>31</td>\n",
       "      <td>M</td>\n",
       "      <td>3</td>\n",
       "      <td>69850</td>\n",
       "      <td>16.39</td>\n",
       "      <td>21</td>\n",
       "      <td>21</td>\n",
       "      <td>SUV</td>\n",
       "      <td>6</td>\n",
       "    </tr>\n",
       "  </tbody>\n",
       "</table>\n",
       "</div>"
      ],
      "text/plain": [
       "          vehicle  msrp2012  accelrate2012  mpg2012  mpgmpge2012 carclass2012  \\\n",
       "0  ActiveHybrid 3  19006.62           9.35       50           50            C   \n",
       "1  ActiveHybrid 5  32095.61           8.82       50           95            M   \n",
       "2          Ampera  31739.55          11.11       37           98            C   \n",
       "3        Camry LE  62180.23          16.67       26           26            M   \n",
       "4  Chevrolet Volt  59126.14          16.95       31           31            M   \n",
       "\n",
       "   carclass_id2012  msrp2013  accelrate2013  mpg2013  mpgmpge2013  \\\n",
       "0                1     19080           8.70       50           50   \n",
       "1                3     24995          12.66       45           45   \n",
       "2                1     24200          10.20       50           50   \n",
       "3                3     18600          11.76       42           42   \n",
       "4                3     69850          16.39       21           21   \n",
       "\n",
       "  carclass2013  carclass_id2013  \n",
       "0            C                1  \n",
       "1            C                1  \n",
       "2            M                3  \n",
       "3            C                1  \n",
       "4          SUV                6  "
      ]
     },
     "execution_count": 50,
     "metadata": {},
     "output_type": "execute_result"
    }
   ],
   "source": [
    "hybrid2.head()"
   ]
  },
  {
   "cell_type": "markdown",
   "id": "66c7869c-8ad7-45ff-ade8-92c2b6756da6",
   "metadata": {},
   "source": [
    "only assumption is normality - with a histogram"
   ]
  },
  {
   "cell_type": "code",
   "execution_count": 51,
   "id": "dd5e5f8e-3595-41e8-8d77-92ace8563cd9",
   "metadata": {},
   "outputs": [
    {
     "data": {
      "text/plain": [
       "<AxesSubplot:>"
      ]
     },
     "execution_count": 51,
     "metadata": {},
     "output_type": "execute_result"
    },
    {
     "data": {
      "image/png": "[encoded data removed]",
      "text/plain": [
       "<Figure size 432x288 with 1 Axes>"
      ]
     },
     "metadata": {
      "needs_background": "light"
     },
     "output_type": "display_data"
    }
   ],
   "source": [
    "hybrid2['msrp2012'].hist()"
   ]
  },
  {
   "cell_type": "code",
   "execution_count": 52,
   "id": "0ec04d27-27df-43a1-be2d-75db576caf58",
   "metadata": {},
   "outputs": [
    {
     "data": {
      "text/plain": [
       "<AxesSubplot:>"
      ]
     },
     "execution_count": 52,
     "metadata": {},
     "output_type": "execute_result"
    },
    {
     "data": {
      "image/png": "[encoded data removed]",
      "text/plain": [
       "<Figure size 432x288 with 1 Axes>"
      ]
     },
     "metadata": {
      "needs_background": "light"
     },
     "output_type": "display_data"
    }
   ],
   "source": [
    "hybrid2['msrp2013'].hist()"
   ]
  },
  {
   "cell_type": "markdown",
   "id": "350d06ec-3163-42d3-b771-8eee66544598",
   "metadata": {},
   "source": [
    "It's fine - we'll proceed. The only two arguments for this function are the two columns we'll compare. Think of _rel as related."
   ]
  },
  {
   "cell_type": "code",
   "execution_count": 53,
   "id": "e2215cd0-bbe0-4733-a8a5-5264a5be8f12",
   "metadata": {},
   "outputs": [
    {
     "data": {
      "text/plain": [
       "Ttest_relResult(statistic=0.23749650777597428, pvalue=0.8162780348473798)"
      ]
     },
     "execution_count": 53,
     "metadata": {},
     "output_type": "execute_result"
    }
   ],
   "source": [
    "stats.ttest_rel(hybrid2['msrp2012'], hybrid2['msrp2013'])"
   ]
  },
  {
   "cell_type": "markdown",
   "id": "cdb017c0-27ba-4a2e-9065-588d94105296",
   "metadata": {},
   "source": [
    "Since the p value is > .05, this means there was no significant change in prices over the two years. "
   ]
  },
  {
   "cell_type": "markdown",
   "id": "df40d0ce-c946-4af8-9412-652a1a24c059",
   "metadata": {},
   "source": [
    "Next, let's take a look and see with a dependent t-test to see if the miles per gallon changes between 2012 and 2013."
   ]
  },
  {
   "cell_type": "code",
   "execution_count": 55,
   "id": "5c707895-11aa-4132-b796-ee85bac3b2e8",
   "metadata": {},
   "outputs": [
    {
     "data": {
      "text/plain": [
       "<AxesSubplot:>"
      ]
     },
     "execution_count": 55,
     "metadata": {},
     "output_type": "execute_result"
    },
    {
     "data": {
      "image/png": "[encoded data removed]",
      "text/plain": [
       "<Figure size 432x288 with 1 Axes>"
      ]
     },
     "metadata": {
      "needs_background": "light"
     },
     "output_type": "display_data"
    }
   ],
   "source": [
    "hybrid2['mpg2012'].hist()"
   ]
  },
  {
   "cell_type": "code",
   "execution_count": 56,
   "id": "fc0306d7-4a22-4831-b987-c9fcb3fdfc8f",
   "metadata": {},
   "outputs": [
    {
     "data": {
      "text/plain": [
       "<AxesSubplot:>"
      ]
     },
     "execution_count": 56,
     "metadata": {},
     "output_type": "execute_result"
    },
    {
     "data": {
      "image/png": "[encoded data removed]",
      "text/plain": [
       "<Figure size 432x288 with 1 Axes>"
      ]
     },
     "metadata": {
      "needs_background": "light"
     },
     "output_type": "display_data"
    }
   ],
   "source": [
    "hybrid2['mpg2013'].hist()"
   ]
  },
  {
   "cell_type": "code",
   "execution_count": 57,
   "id": "7f0585fa-a4d1-4da8-a3c3-c52a62c59b0f",
   "metadata": {},
   "outputs": [
    {
     "data": {
      "text/plain": [
       "Ttest_relResult(statistic=0.14466598084438312, pvalue=0.8873759030512349)"
      ]
     },
     "execution_count": 57,
     "metadata": {},
     "output_type": "execute_result"
    }
   ],
   "source": [
    "stats.ttest_rel(hybrid2['mpg2012'], hybrid2['mpg2013'])"
   ]
  },
  {
   "cell_type": "markdown",
   "id": "29044093-9fa0-4a1d-a009-6fc08d64982e",
   "metadata": {},
   "source": [
    "Since the p value is > .05, and the t value is very small, this means there is no significant difference between miles per gallon over the two model years for this car. "
   ]
  },
  {
   "cell_type": "markdown",
   "id": "baa572a0-a6c3-469f-a63d-f8a811e2366c",
   "metadata": {},
   "source": [
    "<hr style = \"height: 10px; border: 1; box-shadow: inset 0 9px 9px -3px rgba(11, 99, 184, 0.8); -webkit-border-radius: 5px;\n",
    "-moz-border-radius: 5px; -ms-border-radius: 5px; -o-border-radius: 5px; border-radius: 5px\">\n",
    "# Page 4 - Independent Chi Squares <a class=\"anchor\" id=\"t_tests_page_4\"></a>\n",
    "\n",
    "[Back to Top](#t_tests_toc)\n",
    "\n",
    "<hr style = \"height: 10px; border: 1; box-shadow: inset 0 9px 9px -3px rgba(11, 99, 184, 0.8); -webkit-border-radius: 5px;\n",
    "-moz-border-radius: 5px; -ms-border-radius: 5px; -o-border-radius: 5px; border-radius: 5px\">"
   ]
  },
  {
   "cell_type": "markdown",
   "id": "c1d815ee-0b30-4119-b1b5-dc64aa6a0175",
   "metadata": {},
   "source": [
    "An independent Chi-Square is used when you want to determine whether two categorical variables influence each other"
   ]
  },
  {
   "cell_type": "code",
   "execution_count": 58,
   "id": "d60ffb59-f78f-4e61-978e-162af8916a9d",
   "metadata": {},
   "outputs": [],
   "source": [
    "lipstick = pd.read_csv(\"DATA/lead_lipstick.csv\")"
   ]
  },
  {
   "cell_type": "code",
   "execution_count": 59,
   "id": "17f38c54-b7f1-4c8c-a706-687c12592543",
   "metadata": {},
   "outputs": [
    {
     "data": {
      "text/html": [
       "<div>\n",
       "<style scoped>\n",
       "    .dataframe tbody tr th:only-of-type {\n",
       "        vertical-align: middle;\n",
       "    }\n",
       "\n",
       "    .dataframe tbody tr th {\n",
       "        vertical-align: top;\n",
       "    }\n",
       "\n",
       "    .dataframe thead th {\n",
       "        text-align: right;\n",
       "    }\n",
       "</style>\n",
       "<table border=\"1\" class=\"dataframe\">\n",
       "  <thead>\n",
       "    <tr style=\"text-align: right;\">\n",
       "      <th></th>\n",
       "      <th>JRC_code</th>\n",
       "      <th>purchCntry</th>\n",
       "      <th>prodCntry</th>\n",
       "      <th>Pb</th>\n",
       "      <th>sdPb</th>\n",
       "      <th>shade</th>\n",
       "      <th>prodType</th>\n",
       "      <th>priceCatgry</th>\n",
       "    </tr>\n",
       "  </thead>\n",
       "  <tbody>\n",
       "    <tr>\n",
       "      <th>0</th>\n",
       "      <td>C135</td>\n",
       "      <td>NL</td>\n",
       "      <td>NL</td>\n",
       "      <td>3.75</td>\n",
       "      <td>0.24</td>\n",
       "      <td>Red</td>\n",
       "      <td>LP</td>\n",
       "      <td>2</td>\n",
       "    </tr>\n",
       "    <tr>\n",
       "      <th>1</th>\n",
       "      <td>C18</td>\n",
       "      <td>FI</td>\n",
       "      <td>FI</td>\n",
       "      <td>2.29</td>\n",
       "      <td>0.07</td>\n",
       "      <td>Red</td>\n",
       "      <td>LP</td>\n",
       "      <td>2</td>\n",
       "    </tr>\n",
       "    <tr>\n",
       "      <th>2</th>\n",
       "      <td>C20</td>\n",
       "      <td>FI</td>\n",
       "      <td>IT</td>\n",
       "      <td>1.27</td>\n",
       "      <td>0.06</td>\n",
       "      <td>Red</td>\n",
       "      <td>LP</td>\n",
       "      <td>2</td>\n",
       "    </tr>\n",
       "    <tr>\n",
       "      <th>3</th>\n",
       "      <td>C164</td>\n",
       "      <td>DE</td>\n",
       "      <td>FR</td>\n",
       "      <td>1.21</td>\n",
       "      <td>0.06</td>\n",
       "      <td>Red</td>\n",
       "      <td>LP</td>\n",
       "      <td>2</td>\n",
       "    </tr>\n",
       "    <tr>\n",
       "      <th>4</th>\n",
       "      <td>C71</td>\n",
       "      <td>MT</td>\n",
       "      <td>UK</td>\n",
       "      <td>0.85</td>\n",
       "      <td>0.04</td>\n",
       "      <td>Red</td>\n",
       "      <td>LP</td>\n",
       "      <td>2</td>\n",
       "    </tr>\n",
       "  </tbody>\n",
       "</table>\n",
       "</div>"
      ],
      "text/plain": [
       "  JRC_code purchCntry prodCntry    Pb  sdPb shade prodType  priceCatgry\n",
       "0     C135         NL        NL  3.75  0.24   Red       LP            2\n",
       "1      C18         FI        FI  2.29  0.07   Red       LP            2\n",
       "2      C20         FI        IT  1.27  0.06   Red       LP            2\n",
       "3     C164         DE        FR  1.21  0.06   Red       LP            2\n",
       "4      C71         MT        UK  0.85  0.04   Red       LP            2"
      ]
     },
     "execution_count": 59,
     "metadata": {},
     "output_type": "execute_result"
    }
   ],
   "source": [
    "lipstick.head()"
   ]
  },
  {
   "cell_type": "markdown",
   "id": "9417d3dd-6eb3-4617-bfb6-026765b5492a",
   "metadata": {},
   "source": [
    "This dataset has some code to interpret, the first is product type, prodType and it has two levels: LP is lipstick, and LG is lip gloss. The second is price category, priceCatgry, and it has three levels:"
   ]
  },
  {
   "cell_type": "code",
   "execution_count": null,
   "id": "992eba2c-7179-4345-9c8b-73b2a3096377",
   "metadata": {},
   "outputs": [],
   "source": []
  }
 ],
 "metadata": {
  "kernelspec": {
   "display_name": "Python 3 (ipykernel)",
   "language": "python",
   "name": "python3"
  },
  "language_info": {
   "codemirror_mode": {
    "name": "ipython",
    "version": 3
   },
   "file_extension": ".py",
   "mimetype": "text/x-python",
   "name": "python",
   "nbconvert_exporter": "python",
   "pygments_lexer": "ipython3",
   "version": "3.10.4"
  }
 },
 "nbformat": 4,
 "nbformat_minor": 5
}
