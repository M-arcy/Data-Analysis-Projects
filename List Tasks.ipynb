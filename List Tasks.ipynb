{
 "cells": [
  {
   "cell_type": "code",
   "execution_count": 1,
   "id": "59863251",
   "metadata": {},
   "outputs": [],
   "source": [
    "tasks = [\n",
    "    {'name' : 'Write email to Jan', 'completed' : True},\n",
    "    {'name' : 'Sweep front porch', 'completed' : True},\n",
    "    {'name' : 'Call mom', 'completed' : False}\n",
    "]"
   ]
  },
  {
   "cell_type": "code",
   "execution_count": 2,
   "id": "15571f65",
   "metadata": {},
   "outputs": [],
   "source": [
    "def list_tasks():\n",
    "    for index, task in enumerate(tasks):\n",
    "        print(str.format('{}: {} (Completed: {})', index, task['name'], task['completed']))\n"
   ]
  },
  {
   "cell_type": "code",
   "execution_count": 3,
   "id": "5fe7390a",
   "metadata": {},
   "outputs": [],
   "source": [
    "def add_task():\n",
    "    task_text = input('Please add a task: ')\n",
    "\n",
    "    new_task = {'name' : task_text, 'completed' : False}\n",
    "    tasks.append(new_task)\n"
   ]
  },
  {
   "cell_type": "code",
   "execution_count": 4,
   "id": "291f9b5e",
   "metadata": {},
   "outputs": [],
   "source": [
    "def remove_task():\n",
    "    list_tasks()\n",
    "    delete_task = int(input('Input the index of the task you would like to delete: '))\n",
    "    del tasks[delete_task]\n"
   ]
  },
  {
   "cell_type": "code",
   "execution_count": 5,
   "id": "2d8ebbc0",
   "metadata": {},
   "outputs": [],
   "source": [
    "def mark_task_complete():\n",
    "    list_tasks()\n",
    "    task_to_be_marked_complete = int(input('Input the index of the task you would like to mark complete: '))\n",
    "    tasks[task_to_be_marked_complete]['completed'] = True\n"
   ]
  },
  {
   "cell_type": "code",
   "execution_count": null,
   "id": "fd8f228a",
   "metadata": {},
   "outputs": [
    {
     "name": "stdout",
     "output_type": "stream",
     "text": [
      "\n",
      "1. List the tasks\n",
      "2. Add a task\n",
      "3. Remove a task\n",
      "4. Mark task complete\n",
      "5. Quit\n",
      "What would you like to do? \n",
      "please choose a valid option\n",
      "\n",
      "1. List the tasks\n",
      "2. Add a task\n",
      "3. Remove a task\n",
      "4. Mark task complete\n",
      "5. Quit\n",
      "What would you like to do? 2\n",
      "Please add a task: wash the car\n",
      "\n",
      "1. List the tasks\n",
      "2. Add a task\n",
      "3. Remove a task\n",
      "4. Mark task complete\n",
      "5. Quit\n",
      "What would you like to do? 1\n",
      "0: Write email to Jan (Completed: True)\n",
      "1: Sweep front porch (Completed: True)\n",
      "2: Call mom (Completed: False)\n",
      "3: wash the car (Completed: False)\n"
     ]
    }
   ],
   "source": [
    "menu_text = \"\"\"\n",
    "1. List the tasks\n",
    "2. Add a task\n",
    "3. Remove a task\n",
    "4. Mark task complete\n",
    "5. Quit\n",
    "What would you like to do? \"\"\"\n",
    "\n",
    "program_is_running = True\n",
    "\n",
    "while program_is_running:\n",
    "    decision = input(menu_text)\n",
    "    if decision == '1':\n",
    "        list_tasks()\n",
    "    elif decision == '2':\n",
    "        add_task()\n",
    "    elif decision == '3':\n",
    "        remove_task()\n",
    "    elif decision == '4':\n",
    "        mark_task_complete()\n",
    "    elif decision == '5':\n",
    "        program_is_running = False\n",
    "    else:\n",
    "        print('please choose a valid option')\n"
   ]
  },
  {
   "cell_type": "code",
   "execution_count": null,
   "id": "299ad451",
   "metadata": {},
   "outputs": [],
   "source": []
  }
 ],
 "metadata": {
  "kernelspec": {
   "display_name": "Python 3 (ipykernel)",
   "language": "python",
   "name": "python3"
  },
  "language_info": {
   "codemirror_mode": {
    "name": "ipython",
    "version": 3
   },
   "file_extension": ".py",
   "mimetype": "text/x-python",
   "name": "python",
   "nbconvert_exporter": "python",
   "pygments_lexer": "ipython3",
   "version": "3.10.4"
  }
 },
 "nbformat": 4,
 "nbformat_minor": 5
}
