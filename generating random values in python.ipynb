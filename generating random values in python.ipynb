{
 "cells": [
  {
   "cell_type": "markdown",
   "id": "f6f738c0",
   "metadata": {},
   "source": [
    "#### Python\n",
    "There are several different ways to generate random numbers using Python. For this example, you will use the random package, so import it:\n",
    "\n",
    "import random\n",
    "Generating Numbers Between 0 and 1\n",
    "The function to generate a single value from a uniform random variable between 0 and 1 is random.random(). You can save the number to a variable if you like (this one is called value and then use the print() function on it:\n",
    "\n",
    "value = random.random()\n",
    "print(value)\n",
    "Running the above in Python will result in a single number between 0 and 1, with about 15 digits past the decimal.\n",
    "\n",
    "Generating User-Specified Values\n",
    "In order to get a random value between two other points - say 30 to 50, for example - you need to change the code just a bit. Now, instead of using the random function within the random package, you will use the random.uniform() function, as follows:\n",
    "\n",
    "value = random.uniform(30, 50)\n",
    "print(value)\n",
    "All you need to do is specify the starting point (30) and the ending point (50).\n",
    "\n",
    "Note that for all 4 methods listed above, random numbers were generated that are always positive. The method for generating a random number that is negative, say -30 to -12, or generating a random number that could be either negative or positive, say -5 to 5 is the same.\n",
    "\n"
   ]
  },
  {
   "cell_type": "code",
   "execution_count": 1,
   "id": "a1741ce6",
   "metadata": {},
   "outputs": [],
   "source": [
    "import random"
   ]
  },
  {
   "cell_type": "code",
   "execution_count": 2,
   "id": "7db00f18",
   "metadata": {},
   "outputs": [
    {
     "name": "stdout",
     "output_type": "stream",
     "text": [
      "0.9412349069587085\n"
     ]
    }
   ],
   "source": [
    "price = random.random()\n",
    "print(price)"
   ]
  },
  {
   "cell_type": "markdown",
   "id": "c4e036b3",
   "metadata": {},
   "source": [
    "#### defaults to value between zero and one."
   ]
  },
  {
   "cell_type": "markdown",
   "id": "d6e238fa",
   "metadata": {},
   "source": [
    "#### for user specified value"
   ]
  },
  {
   "cell_type": "code",
   "execution_count": 5,
   "id": "1e05cf42",
   "metadata": {},
   "outputs": [
    {
     "name": "stdout",
     "output_type": "stream",
     "text": [
      "43.191106708702044\n"
     ]
    }
   ],
   "source": [
    "myvalue = random.uniform(30, 50)\n",
    "print(myvalue)"
   ]
  },
  {
   "cell_type": "markdown",
   "id": "e2516044",
   "metadata": {},
   "source": [
    "### generating random numbers with a normal distribution"
   ]
  },
  {
   "cell_type": "markdown",
   "id": "bcc1cfc9",
   "metadata": {},
   "source": [
    "#### Generating the Standard Normal Distribution\n",
    "As shown here, you can generate 5 random numbers according to the standard normal distribution (mean of zero, standard deviation of 1) with the package numpy. So start by importing it:\n",
    "\n",
    "import numpy as np\n",
    "Then you can create a vector of random numbers using the function np.random.normal() with the argument size= to specify how many random numbers you'd like:\n",
    "\n",
    "x = np.random.normal(size = 5)\n",
    "and then print it:\n",
    "\n",
    "print(x)\n",
    "Your results should look something like this:\n",
    "\n",
    "[ 2.22430932 -0.81752269 -1.96034014 -0.44019808  2.08944964]\n",
    "Generating a Normal Distribution Centered Elsewhere\n",
    "In order to have the normal distribution centered somewhere other than 0, with a standard deviation other than 1, you need to do a little manipulation. Suppose you wanted a normal distribution centered at 50, with a standard deviation of 10? You could simply multiply the function by the standard deviation (10), and then add the mean (50):\n",
    "\n",
    "x = (np.random.normal(size=5))*10 + 50\n",
    "print(x)"
   ]
  },
  {
   "cell_type": "code",
   "execution_count": 6,
   "id": "271d062b",
   "metadata": {},
   "outputs": [],
   "source": [
    "import numpy as np"
   ]
  },
  {
   "cell_type": "code",
   "execution_count": 7,
   "id": "ff324a82",
   "metadata": {},
   "outputs": [
    {
     "name": "stdout",
     "output_type": "stream",
     "text": [
      "[ 0.28325581  1.94030666 -1.05209189  0.73665637  0.24737451]\n"
     ]
    }
   ],
   "source": [
    "x = np.random.normal(size=5)\n",
    "print(x)"
   ]
  },
  {
   "cell_type": "code",
   "execution_count": 8,
   "id": "94c8def0",
   "metadata": {},
   "outputs": [
    {
     "name": "stdout",
     "output_type": "stream",
     "text": [
      "[56.99011923 41.86825861 40.9387031  62.01563357 36.49185589]\n"
     ]
    }
   ],
   "source": [
    "y=(np.random.normal(size=5))*10+50\n",
    "print(y)"
   ]
  },
  {
   "cell_type": "code",
   "execution_count": 9,
   "id": "fe9142c5",
   "metadata": {},
   "outputs": [],
   "source": [
    "nrv= (np.random.normal(size=20))*50+100"
   ]
  },
  {
   "cell_type": "code",
   "execution_count": 10,
   "id": "84a332eb",
   "metadata": {},
   "outputs": [
    {
     "name": "stdout",
     "output_type": "stream",
     "text": [
      "[191.24641172 -17.27749735  86.63262988 -11.02831995 119.78922833\n",
      "  66.61739747  84.92006301 155.49689837 183.3361265  103.76866979\n",
      " 137.66207785 127.81601743  55.73394915 146.24726236  94.91621082\n",
      " 146.38306334  64.17859005  42.44226044 161.41598865 133.04197442]\n"
     ]
    }
   ],
   "source": [
    "print(nrv)"
   ]
  },
  {
   "cell_type": "code",
   "execution_count": null,
   "id": "2386f2df",
   "metadata": {},
   "outputs": [],
   "source": []
  }
 ],
 "metadata": {
  "kernelspec": {
   "display_name": "Python 3",
   "language": "python",
   "name": "python3"
  },
  "language_info": {
   "codemirror_mode": {
    "name": "ipython",
    "version": 3
   },
   "file_extension": ".py",
   "mimetype": "text/x-python",
   "name": "python",
   "nbconvert_exporter": "python",
   "pygments_lexer": "ipython3",
   "version": "3.8.8"
  }
 },
 "nbformat": 4,
 "nbformat_minor": 5
}
