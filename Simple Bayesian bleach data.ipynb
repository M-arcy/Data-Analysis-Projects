{
 "cells": [
  {
   "cell_type": "markdown",
   "id": "479a7b2d",
   "metadata": {},
   "source": [
    "#### Bayesian Statistics Hands-On\n",
    "For this hands-on, you will be determining which type of mold-removal solution works better: just bleaching objects, or bleaching them and scrubbing them down thoroughly out of 10,000 trials. Based on the priors you created, the mold-removal solutions have a 90% chance of working.\n",
    "\n",
    "You're trying to determine whether the mold will grow back or not"
   ]
  },
  {
   "cell_type": "code",
   "execution_count": 1,
   "id": "8262b3e6",
   "metadata": {},
   "outputs": [],
   "source": [
    "trials <- 10000"
   ]
  },
  {
   "cell_type": "markdown",
   "id": "4af0f4d8",
   "metadata": {},
   "source": [
    "#### alpha is the 90% chance of working that we want. By default, 10 % is the beta - the outcome we don't want."
   ]
  },
  {
   "cell_type": "code",
   "execution_count": 2,
   "id": "a75d6825",
   "metadata": {},
   "outputs": [],
   "source": [
    "alpha <- 9\n",
    "beta <- 1"
   ]
  },
  {
   "cell_type": "markdown",
   "id": "f0153052",
   "metadata": {},
   "source": [
    "#### set up rbeta()"
   ]
  },
  {
   "cell_type": "code",
   "execution_count": 3,
   "id": "c2d8a10f",
   "metadata": {},
   "outputs": [],
   "source": [
    "samplesA <- rbeta(trials, 27+alpha, 39 + beta)\n",
    "samplesB <- rbeta(trials, 10+alpha, 45 + beta)"
   ]
  },
  {
   "cell_type": "markdown",
   "id": "971f444b",
   "metadata": {},
   "source": [
    "#### samplesA calculates the probability of bleach working. samplesB calculates the probability it doesn't work"
   ]
  },
  {
   "cell_type": "code",
   "execution_count": 4,
   "id": "07893a67",
   "metadata": {},
   "outputs": [],
   "source": [
    "Bsuperior <- sum(samplesB > samplesA) / trials"
   ]
  },
  {
   "cell_type": "code",
   "execution_count": 5,
   "id": "705b526e",
   "metadata": {},
   "outputs": [
    {
     "name": "stdout",
     "output_type": "stream",
     "text": [
      "[1] 0.0123\n"
     ]
    }
   ],
   "source": [
    "print(Bsuperior)"
   ]
  },
  {
   "cell_type": "markdown",
   "id": "84c5a504",
   "metadata": {},
   "source": [
    "# there's a .0123 % chance the bleach is effective.  That doesn't seem like much? "
   ]
  },
  {
   "cell_type": "code",
   "execution_count": null,
   "id": "da15a5d0",
   "metadata": {},
   "outputs": [],
   "source": []
  }
 ],
 "metadata": {
  "kernelspec": {
   "display_name": "R",
   "language": "R",
   "name": "ir"
  },
  "language_info": {
   "codemirror_mode": "r",
   "file_extension": ".r",
   "mimetype": "text/x-r-source",
   "name": "R",
   "pygments_lexer": "r",
   "version": "4.1.1"
  }
 },
 "nbformat": 4,
 "nbformat_minor": 5
}
