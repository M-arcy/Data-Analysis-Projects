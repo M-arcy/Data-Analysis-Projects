{
 "cells": [
  {
   "cell_type": "markdown",
   "id": "155c4bfe",
   "metadata": {},
   "source": [
    "### Hyperparameter Tuning\n",
    "In machine learning, the components of the model you're running is called a parameter. This is very different than how you use the term in statistics, where a parameter just means a statistic for a population, so the context is important when you encounter the word parameter!\n",
    "\n",
    "There are parameters that the model will handle itself, based on your training data. There is nothing you can do with these. But some parameters, you can mess around with to help improve your model fit. Parameters that are adjustable are called hyperparameters.\n",
    "\n",
    "The process of \"messing with\" hyperparameters is called tuning. Think about a tune-up for your car. You want to fix the little things so that overall, your car runs better and smoother. That's exactly what is going on with tuning your machine learning model as well."
   ]
  },
  {
   "cell_type": "markdown",
   "id": "fe9e61a2",
   "metadata": {},
   "source": [
    "#### parameters that are adjustable are called hyperparameters. the components of a model I'm running is called a parameter; very different from statistics, where it's a statistic for a population. the processing of messing with hyperparameters is called tuning. "
   ]
  },
  {
   "cell_type": "markdown",
   "id": "88405b32",
   "metadata": {},
   "source": [
    "#### Hyperparameters for Decision Trees and Random Forests\n",
    "There are four hyperparameters for decision trees and random forests that are important:\n",
    "\n",
    "Maximum depth"
   ]
  },
  {
   "cell_type": "markdown",
   "id": "d5fca288",
   "metadata": {},
   "source": [
    "#### Maximum Depth\n",
    "The maximum depth is how far down the \"roots\" of your tree go. How many nodes do you allow?"
   ]
  },
  {
   "cell_type": "markdown",
   "id": "d584a623",
   "metadata": {},
   "source": [
    "#### Root node -> Node -> leaves"
   ]
  },
  {
   "cell_type": "markdown",
   "id": "847d4d59",
   "metadata": {},
   "source": [
    "#### 2   Number of Estimators\n",
    "The number of estimators is how many trees that make up a forest. Generally, the more trees you have, the better your accuracy will be, but more trees also increases computation time."
   ]
  },
  {
   "cell_type": "markdown",
   "id": "a1e291ce",
   "metadata": {},
   "source": [
    "#### 3 Maximum Number of Features\n",
    "A feature is the decision points, or branches, on the tree. You can set a limit as to how many are allowed.\n",
    "\n"
   ]
  },
  {
   "cell_type": "markdown",
   "id": "1a194d3d",
   "metadata": {},
   "source": [
    "#### 4 Minimum Number of Samples\n",
    "The minimum number of samples is how many data points are being sorted at each feature. This has a minimum instead of a maximum."
   ]
  },
  {
   "cell_type": "markdown",
   "id": "4387b05d",
   "metadata": {},
   "source": [
    "#### minimum number of samples for a leaf aka"
   ]
  },
  {
   "cell_type": "markdown",
   "id": "675ebafb",
   "metadata": {},
   "source": [
    "#### Hyperparameter Tuning in Python\n",
    "Now that you know a little bit about hyperparameter tuning, you'll go ahead and do it in Python! Huzzah!\n",
    "\n",
    "Load in Libraries\n",
    "In addition to everything else you used for random forests, you'll also need the following library:"
   ]
  },
  {
   "cell_type": "code",
   "execution_count": 19,
   "id": "e534ff28",
   "metadata": {},
   "outputs": [],
   "source": [
    "import pandas as pd\n",
    "import numpy as np\n",
    "import matplotlib.pyplot as plt\n",
    "import seaborn as sns\n",
    "%matplotlib inline\n",
    "from sklearn.ensemble import RandomForestClassifier\n",
    "from sklearn.model_selection import train_test_split\n",
    "from sklearn.metrics import accuracy_score, classification_report, confusion_matrix\n",
    "#also the following for a random forest\n",
    "from sklearn.model_selection import RandomizedSearchCV"
   ]
  },
  {
   "cell_type": "code",
   "execution_count": 20,
   "id": "4ea6ca19",
   "metadata": {},
   "outputs": [],
   "source": [
    "iris = sns.load_dataset('iris')"
   ]
  },
  {
   "cell_type": "code",
   "execution_count": 21,
   "id": "01017388",
   "metadata": {},
   "outputs": [],
   "source": [
    "x = iris.drop('species', axis=1)\n",
    "y = iris['species']"
   ]
  },
  {
   "cell_type": "code",
   "execution_count": 22,
   "id": "83702afe",
   "metadata": {},
   "outputs": [],
   "source": [
    "x_train, x_test, y_train, y_test = train_test_split(x,y, test_size=0.3, random_state=76)"
   ]
  },
  {
   "cell_type": "code",
   "execution_count": 23,
   "id": "01956276",
   "metadata": {},
   "outputs": [
    {
     "data": {
      "text/plain": [
       "RandomForestClassifier(n_estimators=500, random_state=76)"
      ]
     },
     "execution_count": 23,
     "metadata": {},
     "output_type": "execute_result"
    }
   ],
   "source": [
    "forest = RandomForestClassifier(n_estimators=500, random_state=76)\n",
    "forest.fit(x_train, y_train)"
   ]
  },
  {
   "cell_type": "code",
   "execution_count": 24,
   "id": "44980656",
   "metadata": {
    "scrolled": true
   },
   "outputs": [
    {
     "name": "stdout",
     "output_type": "stream",
     "text": [
      "[[19  0  0]\n",
      " [ 0 11  2]\n",
      " [ 0  0 13]]\n",
      "              precision    recall  f1-score   support\n",
      "\n",
      "      setosa       1.00      1.00      1.00        19\n",
      "  versicolor       1.00      0.85      0.92        13\n",
      "   virginica       0.87      1.00      0.93        13\n",
      "\n",
      "    accuracy                           0.96        45\n",
      "   macro avg       0.96      0.95      0.95        45\n",
      "weighted avg       0.96      0.96      0.96        45\n",
      "\n"
     ]
    }
   ],
   "source": [
    "forestPredictions = forest.predict(x_test)\n",
    "print(confusion_matrix(y_test, forestPredictions))\n",
    "print(classification_report(y_test, forestPredictions))"
   ]
  },
  {
   "cell_type": "code",
   "execution_count": null,
   "id": "b93fd712",
   "metadata": {},
   "outputs": [],
   "source": []
  },
  {
   "cell_type": "markdown",
   "id": "a8cede25",
   "metadata": {},
   "source": [
    "#### Number of Estimators\n",
    "The first thing you want to do is determine how many trees you should be using, which is the number of estimators. The code below will help you find the best number of estimators based on the accuracy of the model. Remember that an accuracy of 1 is the highest you can get, so the closer you get to one, the better.\n",
    "\n",
    "You can create an array that contains the most likely number of estimators, which is what is shown in the first line. While you could put any numbers in this array, these typically get used frequently in ML. Then you'll create an empty list named results that will end up filled using a for loop!\n",
    "\n",
    "And lastly, on to the for loop itself! This iterates over your n_estimators_array and creates a random forest for each, prints out the accuracy for each, and finally adds it to your results list. So you don't have to test everything manually! The very last line in the for loop prints out each result as it becomes available. Depending on how fast your computer is, this code may take a minute (you are doing 11 random forests, after all!) and you can see the results come up in real time. Pretty cool!"
   ]
  },
  {
   "cell_type": "code",
   "execution_count": 25,
   "id": "d52201f8",
   "metadata": {},
   "outputs": [
    {
     "name": "stdout",
     "output_type": "stream",
     "text": [
      "1 : 0.9111111111111111\n",
      "4 : 0.9555555555555556\n",
      "5 : 0.9333333333333333\n",
      "8 : 0.9555555555555556\n",
      "10 : 0.9777777777777777\n",
      "20 : 0.9555555555555556\n",
      "50 : 0.9555555555555556\n",
      "75 : 0.9555555555555556\n",
      "100 : 0.9555555555555556\n",
      "250 : 0.9555555555555556\n",
      "500 : 0.9555555555555556\n"
     ]
    }
   ],
   "source": [
    "n_estimators_array = [1, 4, 5, 8, 10, 20, 50, 75, 100, 250, 500]\n",
    "results = []\n",
    "for n in n_estimators_array:\n",
    "    forest = RandomForestClassifier(n_estimators=n, random_state=76)\n",
    "    forest.fit(x_train, y_train)\n",
    "    result = accuracy_score(y_test, forest.predict(x_test))\n",
    "    results.append(result) \n",
    "    print(n, ':', result)"
   ]
  },
  {
   "cell_type": "markdown",
   "id": "5085e896",
   "metadata": {},
   "source": [
    "#### make sure to import accuracy_score from sklearn.metrics "
   ]
  },
  {
   "cell_type": "markdown",
   "id": "57a191e5",
   "metadata": {},
   "source": [
    "#### So it looks like the best accuracy arises when you use only 10 trees instead of the standard 500! Good to know.\n",
    "\n",
    "If you wanted a visual representation of this, that can be done too with your good old plt() function!"
   ]
  },
  {
   "cell_type": "code",
   "execution_count": 26,
   "id": "2efb0209",
   "metadata": {},
   "outputs": [
    {
     "data": {
      "text/plain": [
       "[<matplotlib.lines.Line2D at 0x1ff0affcac0>]"
      ]
     },
     "execution_count": 26,
     "metadata": {},
     "output_type": "execute_result"
    },
    {
     "data": {
      "image/png": "[encoded data removed]",
      "text/plain": [
       "<Figure size 432x288 with 1 Axes>"
      ]
     },
     "metadata": {
      "needs_background": "light"
     },
     "output_type": "display_data"
    }
   ],
   "source": [
    "plt.plot(n_estimators_array, results)"
   ]
  },
  {
   "cell_type": "markdown",
   "id": "d237f413",
   "metadata": {},
   "source": [
    "#### You really get a sense from this graph that things have completely stagnated before 100 trees, so it certainly is a waste of processing power to request 500!\n",
    "\n",
    "Tuning the Remaining Three\n",
    "If you're wondering if there is an easier way to find the best hyperparameter values without having to go through each, then guess what? There is! You can automate it and find em' all in one whack with the RandomizedSearchCV library. Although you'll be doing this just with random forests right now, this library will work with any algorithm in the sklearn library! If you're not convinced yet that a randomized grid search is the bee's knees, then to sweeten the pot, they've thrown in cross-validation for the accuracy calculations as well!\n",
    "\n",
    "Below you are creating lists with all the hyperparameter values you want to trial. There is one for each of the remaining three features, named: max_features, max_depth, and min_samples_leaf. Then, you'll create a dictionary with the hyperparameter names as the keys and the list variables as the values. This is called a grid and is aptly named random_grid."
   ]
  },
  {
   "cell_type": "markdown",
   "id": "596900e3",
   "metadata": {},
   "source": [
    "#### to repeat - RandomizedSearchCV library. Although you'll be doing this just with random forests right now, this library will work with any algorithm in the sklearn library! If you're not convinced yet that a randomized grid search is the, then to sweeten the pot, they've thrown in cross-validation for the accuracy calculations as well"
   ]
  },
  {
   "cell_type": "code",
   "execution_count": 27,
   "id": "b34db1b3",
   "metadata": {
    "scrolled": true
   },
   "outputs": [
    {
     "name": "stdout",
     "output_type": "stream",
     "text": [
      "{'max_features': ['auto', None, 'log2'], 'max_depth': [10, 20, 30, 40, 50, 60, 70, 80, 90, None], 'min_samples_leaf': [1, 2, 4]}\n"
     ]
    }
   ],
   "source": [
    "# Number of features to consider at every split\n",
    "max_features = ['auto', None, 'log2']\n",
    "# Maximum number of levels in tree\n",
    "max_depth = [10, 20, 30, 40, 50, 60, 70, 80, 90, None]\n",
    "# Minimum number of samples required at each leaf node\n",
    "min_samples_leaf = [1, 2, 4]\n",
    "# Method of selecting samples for training each tree\n",
    "random_grid = {'max_features': max_features,\n",
    "               'max_depth': max_depth,\n",
    "               'min_samples_leaf': min_samples_leaf}\n",
    "print(random_grid)"
   ]
  },
  {
   "cell_type": "markdown",
   "id": "d9e17c9e",
   "metadata": {},
   "source": [
    "#### So nothing has actually happened yet - but you're prepared for the next move, which is to initialize one random forest for every one of those hyperparameters in the random_grid. Since you know that you only want ten trees, the first line sets up a random forest model with that.\n",
    "\n",
    "The next line of code gives you a random search of the random_grid you created using the function RandomizedSearchCV(). The arguments for that function include the estimator=, which is what you've named your latest iteration of the random forest with only ten estimators, the param_distributions= argument, which is where you plug in the random_grid dictionary, n_iter=, which is the number of iterations, or times to complete the random forest, and lastly, the cv= argument, which allows you to choose how many folds you'd like in your cross validation. The random_state= argument is not required to run code, but including it means that your results should be the same as those in the lesson."
   ]
  },
  {
   "cell_type": "code",
   "execution_count": 28,
   "id": "01a4e16d",
   "metadata": {},
   "outputs": [],
   "source": [
    "rf = RandomForestClassifier(n_estimators=10)\n",
    "rf_random = RandomizedSearchCV(estimator = rf, param_distributions = random_grid, n_iter = 90, cv = 3, random_state=42)"
   ]
  },
  {
   "cell_type": "markdown",
   "id": "415e02a9",
   "metadata": {},
   "source": [
    "#### With that created, it's time to fit!"
   ]
  },
  {
   "cell_type": "code",
   "execution_count": 29,
   "id": "96e3fb77",
   "metadata": {},
   "outputs": [
    {
     "data": {
      "text/plain": [
       "RandomizedSearchCV(cv=3, estimator=RandomForestClassifier(n_estimators=10),\n",
       "                   n_iter=90,\n",
       "                   param_distributions={'max_depth': [10, 20, 30, 40, 50, 60,\n",
       "                                                      70, 80, 90, None],\n",
       "                                        'max_features': ['auto', None, 'log2'],\n",
       "                                        'min_samples_leaf': [1, 2, 4]},\n",
       "                   random_state=42)"
      ]
     },
     "execution_count": 29,
     "metadata": {},
     "output_type": "execute_result"
    }
   ],
   "source": [
    "rf_random.fit(x_train, y_train)"
   ]
  },
  {
   "cell_type": "markdown",
   "id": "ed99c366",
   "metadata": {},
   "source": [
    "#### It basically just tells you what it did, which is not particularly helpful. What would be helpful is knowing which hyperparameter produced the best accuracy. But that isn't possible, is it?\n",
    "\n",
    "It is! Try this line of code out!"
   ]
  },
  {
   "cell_type": "code",
   "execution_count": 30,
   "id": "46506a3d",
   "metadata": {},
   "outputs": [
    {
     "data": {
      "text/plain": [
       "{'min_samples_leaf': 2, 'max_features': None, 'max_depth': 50}"
      ]
     },
     "execution_count": 30,
     "metadata": {},
     "output_type": "execute_result"
    }
   ],
   "source": [
    "rf_random.best_params_"
   ]
  },
  {
   "cell_type": "markdown",
   "id": "a5bd4c3f",
   "metadata": {},
   "source": [
    "#### This means that the model with the best accuracy has at least 4 samples per leaf, leaves the max features setting on auto, and has a maximum depth of 30 decision points. Pretty nifty! Now all you need to do is run one last random forest that actually has those parameters! This is relatively plug-and-play here, since in your random grid search code, you used approximately the same names."
   ]
  },
  {
   "cell_type": "markdown",
   "id": "d1a6723d",
   "metadata": {},
   "source": [
    "#### note my output says to have a maximum depth of 50 - not 30"
   ]
  },
  {
   "cell_type": "code",
   "execution_count": 31,
   "id": "e3aa6fa4",
   "metadata": {},
   "outputs": [
    {
     "data": {
      "text/plain": [
       "RandomForestClassifier(max_depth=30, min_samples_leaf=4, n_estimators=10)"
      ]
     },
     "execution_count": 31,
     "metadata": {},
     "output_type": "execute_result"
    }
   ],
   "source": [
    "forest = RandomForestClassifier(n_estimators=10, min_samples_leaf=4, max_features=\"auto\", max_depth=30)\n",
    "forest.fit(x_train, y_train)"
   ]
  },
  {
   "cell_type": "markdown",
   "id": "db6f894f",
   "metadata": {},
   "source": [
    "#### running the code above just tells you the details of the model. But if you want the details (and of course you want the details!) you can use the same prediction and classification report info as before, but with your new and improved model:"
   ]
  },
  {
   "cell_type": "code",
   "execution_count": 32,
   "id": "398fd4e3",
   "metadata": {
    "scrolled": true
   },
   "outputs": [
    {
     "name": "stdout",
     "output_type": "stream",
     "text": [
      "[[19  0  0]\n",
      " [ 0 12  1]\n",
      " [ 0  0 13]]\n",
      "              precision    recall  f1-score   support\n",
      "\n",
      "      setosa       1.00      1.00      1.00        19\n",
      "  versicolor       1.00      0.92      0.96        13\n",
      "   virginica       0.93      1.00      0.96        13\n",
      "\n",
      "    accuracy                           0.98        45\n",
      "   macro avg       0.98      0.97      0.97        45\n",
      "weighted avg       0.98      0.98      0.98        45\n",
      "\n"
     ]
    }
   ],
   "source": [
    "forestPredictions = forest.predict(x_test)\n",
    "print(confusion_matrix(y_test, forestPredictions))\n",
    "print(classification_report(y_test, forestPredictions))"
   ]
  },
  {
   "cell_type": "markdown",
   "id": "f1e705db",
   "metadata": {},
   "source": [
    "### looks good. overall accuracy is 95% weighted. "
   ]
  },
  {
   "cell_type": "markdown",
   "id": "665b941a",
   "metadata": {},
   "source": [
    "#### you plug in the random_grid dictionary after param_distributions\n",
    "#the very first thing you want to do when hyperparameter tuning is find the number of estimators. "
   ]
  },
  {
   "cell_type": "markdown",
   "id": "392a7a9f",
   "metadata": {},
   "source": [
    "#### Feature Importance\n",
    "When you have more than one x variable in a machine learning model, how do you know which one of them is important? Are they all equally important? Do some help predict y more than others? If you were doing regression, you could find out by looking at the individual p values related to the variable, or you could do a stepwise regression of some sort to tease out how much each matters. But these options don't exist for machine learning. However, something called feature importance does.\n",
    "\n",
    "Each variable in machine learning can also be referred to as a feature. So, determining the feature importance just means that you can figure out which variable makes more difference to the prediction of the y."
   ]
  },
  {
   "cell_type": "markdown",
   "id": "8c6c01b0",
   "metadata": {},
   "source": [
    "#### Feature Importance in Python\n",
    "It's a pretty quick and easy line of code to get feature importance! They are outputs of your model, and so you just need to call them in a format that is useful. You'll create a new variable called feature_importances that is formatted as a pandas series, using the function pd.Series(). Then, you can call forest.feature_importances_, which by default is created when you run forest. Lastly, for readability, you can index it with the argument index= and put in x.columns so that the name of the column names in your dataset show on the left."
   ]
  },
  {
   "cell_type": "code",
   "execution_count": 33,
   "id": "ec68585d",
   "metadata": {},
   "outputs": [
    {
     "data": {
      "text/plain": [
       "sepal_length    0.001153\n",
       "sepal_width     0.040525\n",
       "petal_length    0.408658\n",
       "petal_width     0.549664\n",
       "dtype: float64"
      ]
     },
     "execution_count": 33,
     "metadata": {},
     "output_type": "execute_result"
    }
   ],
   "source": [
    "feature_importances = pd.Series(forest.feature_importances_, index=x.columns)\n",
    "feature_importances"
   ]
  },
  {
   "cell_type": "markdown",
   "id": "b1178c82",
   "metadata": {},
   "source": [
    "#### The bigger, the better for feature importance. Wouldn't it be nice to see each of them in order of feature importance, rather than in column order? Well, that can be arranged! The sort_values() function will sort them. The inplace=True argument, like always, makes this change permanent, and ascending=False means that this goes from largest to smallest, which is exactly what you'd like to see! Then all you need to do is print it out "
   ]
  },
  {
   "cell_type": "code",
   "execution_count": 34,
   "id": "c68050aa",
   "metadata": {},
   "outputs": [
    {
     "name": "stdout",
     "output_type": "stream",
     "text": [
      "petal_width     0.549664\n",
      "petal_length    0.408658\n",
      "sepal_width     0.040525\n",
      "sepal_length    0.001153\n",
      "dtype: float64\n"
     ]
    }
   ],
   "source": [
    "feature_importances.sort_values(inplace=True, ascending=False)\n",
    "print(feature_importances)"
   ]
  },
  {
   "cell_type": "markdown",
   "id": "3438ea60",
   "metadata": {},
   "source": [
    "#### If you're someone visual, you can also graph this. A simple bar graph will do if you aren't showing it off to anyone:"
   ]
  },
  {
   "cell_type": "code",
   "execution_count": 35,
   "id": "b11f9924",
   "metadata": {},
   "outputs": [
    {
     "data": {
      "text/plain": [
       "<AxesSubplot:>"
      ]
     },
     "execution_count": 35,
     "metadata": {},
     "output_type": "execute_result"
    },
    {
     "data": {
      "image/png": "[encoded data removed]",
      "text/plain": [
       "<Figure size 504x432 with 1 Axes>"
      ]
     },
     "metadata": {
      "needs_background": "light"
     },
     "output_type": "display_data"
    }
   ],
   "source": [
    "feature_importances.plot(kind='barh', figsize=(7,6))"
   ]
  },
  {
   "cell_type": "code",
   "execution_count": null,
   "id": "136d40a4",
   "metadata": {},
   "outputs": [],
   "source": []
  }
 ],
 "metadata": {
  "kernelspec": {
   "display_name": "Python 3",
   "language": "python",
   "name": "python3"
  },
  "language_info": {
   "codemirror_mode": {
    "name": "ipython",
    "version": 3
   },
   "file_extension": ".py",
   "mimetype": "text/x-python",
   "name": "python",
   "nbconvert_exporter": "python",
   "pygments_lexer": "ipython3",
   "version": "3.8.8"
  }
 },
 "nbformat": 4,
 "nbformat_minor": 5
}
