{
 "cells": [
  {
   "cell_type": "code",
   "execution_count": 1,
   "id": "945e16ee",
   "metadata": {},
   "outputs": [
    {
     "data": {
      "text/html": [
       "<table class=\"dataframe\">\n",
       "<caption>A data.frame: 6 × 11</caption>\n",
       "<thead>\n",
       "\t<tr><th></th><th scope=col>mpg</th><th scope=col>cyl</th><th scope=col>disp</th><th scope=col>hp</th><th scope=col>drat</th><th scope=col>wt</th><th scope=col>qsec</th><th scope=col>vs</th><th scope=col>am</th><th scope=col>gear</th><th scope=col>carb</th></tr>\n",
       "\t<tr><th></th><th scope=col>&lt;dbl&gt;</th><th scope=col>&lt;dbl&gt;</th><th scope=col>&lt;dbl&gt;</th><th scope=col>&lt;dbl&gt;</th><th scope=col>&lt;dbl&gt;</th><th scope=col>&lt;dbl&gt;</th><th scope=col>&lt;dbl&gt;</th><th scope=col>&lt;dbl&gt;</th><th scope=col>&lt;dbl&gt;</th><th scope=col>&lt;dbl&gt;</th><th scope=col>&lt;dbl&gt;</th></tr>\n",
       "</thead>\n",
       "<tbody>\n",
       "\t<tr><th scope=row>Mazda RX4</th><td>21.0</td><td>6</td><td>160</td><td>110</td><td>3.90</td><td>2.620</td><td>16.46</td><td>0</td><td>1</td><td>4</td><td>4</td></tr>\n",
       "\t<tr><th scope=row>Mazda RX4 Wag</th><td>21.0</td><td>6</td><td>160</td><td>110</td><td>3.90</td><td>2.875</td><td>17.02</td><td>0</td><td>1</td><td>4</td><td>4</td></tr>\n",
       "\t<tr><th scope=row>Datsun 710</th><td>22.8</td><td>4</td><td>108</td><td> 93</td><td>3.85</td><td>2.320</td><td>18.61</td><td>1</td><td>1</td><td>4</td><td>1</td></tr>\n",
       "\t<tr><th scope=row>Hornet 4 Drive</th><td>21.4</td><td>6</td><td>258</td><td>110</td><td>3.08</td><td>3.215</td><td>19.44</td><td>1</td><td>0</td><td>3</td><td>1</td></tr>\n",
       "\t<tr><th scope=row>Hornet Sportabout</th><td>18.7</td><td>8</td><td>360</td><td>175</td><td>3.15</td><td>3.440</td><td>17.02</td><td>0</td><td>0</td><td>3</td><td>2</td></tr>\n",
       "\t<tr><th scope=row>Valiant</th><td>18.1</td><td>6</td><td>225</td><td>105</td><td>2.76</td><td>3.460</td><td>20.22</td><td>1</td><td>0</td><td>3</td><td>1</td></tr>\n",
       "</tbody>\n",
       "</table>\n"
      ],
      "text/latex": [
       "A data.frame: 6 × 11\n",
       "\\begin{tabular}{r|lllllllllll}\n",
       "  & mpg & cyl & disp & hp & drat & wt & qsec & vs & am & gear & carb\\\\\n",
       "  & <dbl> & <dbl> & <dbl> & <dbl> & <dbl> & <dbl> & <dbl> & <dbl> & <dbl> & <dbl> & <dbl>\\\\\n",
       "\\hline\n",
       "\tMazda RX4 & 21.0 & 6 & 160 & 110 & 3.90 & 2.620 & 16.46 & 0 & 1 & 4 & 4\\\\\n",
       "\tMazda RX4 Wag & 21.0 & 6 & 160 & 110 & 3.90 & 2.875 & 17.02 & 0 & 1 & 4 & 4\\\\\n",
       "\tDatsun 710 & 22.8 & 4 & 108 &  93 & 3.85 & 2.320 & 18.61 & 1 & 1 & 4 & 1\\\\\n",
       "\tHornet 4 Drive & 21.4 & 6 & 258 & 110 & 3.08 & 3.215 & 19.44 & 1 & 0 & 3 & 1\\\\\n",
       "\tHornet Sportabout & 18.7 & 8 & 360 & 175 & 3.15 & 3.440 & 17.02 & 0 & 0 & 3 & 2\\\\\n",
       "\tValiant & 18.1 & 6 & 225 & 105 & 2.76 & 3.460 & 20.22 & 1 & 0 & 3 & 1\\\\\n",
       "\\end{tabular}\n"
      ],
      "text/markdown": [
       "\n",
       "A data.frame: 6 × 11\n",
       "\n",
       "| <!--/--> | mpg &lt;dbl&gt; | cyl &lt;dbl&gt; | disp &lt;dbl&gt; | hp &lt;dbl&gt; | drat &lt;dbl&gt; | wt &lt;dbl&gt; | qsec &lt;dbl&gt; | vs &lt;dbl&gt; | am &lt;dbl&gt; | gear &lt;dbl&gt; | carb &lt;dbl&gt; |\n",
       "|---|---|---|---|---|---|---|---|---|---|---|---|\n",
       "| Mazda RX4 | 21.0 | 6 | 160 | 110 | 3.90 | 2.620 | 16.46 | 0 | 1 | 4 | 4 |\n",
       "| Mazda RX4 Wag | 21.0 | 6 | 160 | 110 | 3.90 | 2.875 | 17.02 | 0 | 1 | 4 | 4 |\n",
       "| Datsun 710 | 22.8 | 4 | 108 |  93 | 3.85 | 2.320 | 18.61 | 1 | 1 | 4 | 1 |\n",
       "| Hornet 4 Drive | 21.4 | 6 | 258 | 110 | 3.08 | 3.215 | 19.44 | 1 | 0 | 3 | 1 |\n",
       "| Hornet Sportabout | 18.7 | 8 | 360 | 175 | 3.15 | 3.440 | 17.02 | 0 | 0 | 3 | 2 |\n",
       "| Valiant | 18.1 | 6 | 225 | 105 | 2.76 | 3.460 | 20.22 | 1 | 0 | 3 | 1 |\n",
       "\n"
      ],
      "text/plain": [
       "                  mpg  cyl disp hp  drat wt    qsec  vs am gear carb\n",
       "Mazda RX4         21.0 6   160  110 3.90 2.620 16.46 0  1  4    4   \n",
       "Mazda RX4 Wag     21.0 6   160  110 3.90 2.875 17.02 0  1  4    4   \n",
       "Datsun 710        22.8 4   108   93 3.85 2.320 18.61 1  1  4    1   \n",
       "Hornet 4 Drive    21.4 6   258  110 3.08 3.215 19.44 1  0  3    1   \n",
       "Hornet Sportabout 18.7 8   360  175 3.15 3.440 17.02 0  0  3    2   \n",
       "Valiant           18.1 6   225  105 2.76 3.460 20.22 1  0  3    1   "
      ]
     },
     "metadata": {},
     "output_type": "display_data"
    }
   ],
   "source": [
    "head(mtcars)"
   ]
  },
  {
   "cell_type": "markdown",
   "id": "12d06bfb",
   "metadata": {},
   "source": [
    "#### Create a model that will use mpg as the response variable, and the other 10 columns of data as potential predictor variables. It is assumed that all 10 predictors don't really belong in the model.\n",
    "\n"
   ]
  },
  {
   "cell_type": "code",
   "execution_count": 2,
   "id": "7204cae7",
   "metadata": {},
   "outputs": [],
   "source": [
    "Fitall <- lm(mpg~.,data=mtcars)"
   ]
  },
  {
   "cell_type": "markdown",
   "id": "2ba90342",
   "metadata": {},
   "source": [
    "#### mpg is your y, or response variable, and . means \"all.\" Instead of saying mpg ~ ., you could have listed out all 10 predictor variables, as in \"mpg ~ cyl + disp + hp + drat + ...\". It is much easier to use the . rather than list them all out."
   ]
  },
  {
   "cell_type": "code",
   "execution_count": 8,
   "id": "25f645e0",
   "metadata": {},
   "outputs": [
    {
     "data": {
      "text/plain": [
       "mpg ~ cyl + disp + hp + drat + wt + qsec + vs + am + gear + carb"
      ]
     },
     "metadata": {},
     "output_type": "display_data"
    }
   ],
   "source": [
    "formula(Fitall)"
   ]
  },
  {
   "cell_type": "markdown",
   "id": "1fe287ae",
   "metadata": {},
   "source": [
    "#### using formula shows, obvi the formula. important later on."
   ]
  },
  {
   "cell_type": "code",
   "execution_count": 9,
   "id": "aa6403ef",
   "metadata": {},
   "outputs": [
    {
     "data": {
      "text/plain": [
       "\n",
       "Call:\n",
       "lm(formula = mpg ~ ., data = mtcars)\n",
       "\n",
       "Residuals:\n",
       "    Min      1Q  Median      3Q     Max \n",
       "-3.4506 -1.6044 -0.1196  1.2193  4.6271 \n",
       "\n",
       "Coefficients:\n",
       "            Estimate Std. Error t value Pr(>|t|)  \n",
       "(Intercept) 12.30337   18.71788   0.657   0.5181  \n",
       "cyl         -0.11144    1.04502  -0.107   0.9161  \n",
       "disp         0.01334    0.01786   0.747   0.4635  \n",
       "hp          -0.02148    0.02177  -0.987   0.3350  \n",
       "drat         0.78711    1.63537   0.481   0.6353  \n",
       "wt          -3.71530    1.89441  -1.961   0.0633 .\n",
       "qsec         0.82104    0.73084   1.123   0.2739  \n",
       "vs           0.31776    2.10451   0.151   0.8814  \n",
       "am           2.52023    2.05665   1.225   0.2340  \n",
       "gear         0.65541    1.49326   0.439   0.6652  \n",
       "carb        -0.19942    0.82875  -0.241   0.8122  \n",
       "---\n",
       "Signif. codes:  0 '***' 0.001 '**' 0.01 '*' 0.05 '.' 0.1 ' ' 1\n",
       "\n",
       "Residual standard error: 2.65 on 21 degrees of freedom\n",
       "Multiple R-squared:  0.869,\tAdjusted R-squared:  0.8066 \n",
       "F-statistic: 13.93 on 10 and 21 DF,  p-value: 3.793e-07\n"
      ]
     },
     "metadata": {},
     "output_type": "display_data"
    }
   ],
   "source": [
    "summary(Fitall)\n"
   ]
  },
  {
   "cell_type": "markdown",
   "id": "63fa9240",
   "metadata": {},
   "source": [
    "#### Although the overall p value at the bottom is significant, none of the individual predictors are, meaning that the model is probably not a good fit; the number of variables has just inflated the p value to the point of being significant, and what the independent variables are does not really matter.\n",
    "\n",
    "Once you have created a new model after backward elimination, you can compare the above model summary with all 10 predictors against what R has helped determine is the best fit.\n",
    "\n"
   ]
  },
  {
   "cell_type": "code",
   "execution_count": 10,
   "id": "09f063ec",
   "metadata": {},
   "outputs": [
    {
     "name": "stdout",
     "output_type": "stream",
     "text": [
      "Start:  AIC=70.9\n",
      "mpg ~ cyl + disp + hp + drat + wt + qsec + vs + am + gear + carb\n",
      "\n",
      "       Df Sum of Sq    RSS    AIC\n",
      "- cyl   1    0.0799 147.57 68.915\n",
      "- vs    1    0.1601 147.66 68.932\n",
      "- carb  1    0.4067 147.90 68.986\n",
      "- gear  1    1.3531 148.85 69.190\n",
      "- drat  1    1.6270 149.12 69.249\n",
      "- disp  1    3.9167 151.41 69.736\n",
      "- hp    1    6.8399 154.33 70.348\n",
      "- qsec  1    8.8641 156.36 70.765\n",
      "<none>              147.49 70.898\n",
      "- am    1   10.5467 158.04 71.108\n",
      "- wt    1   27.0144 174.51 74.280\n",
      "\n",
      "Step:  AIC=68.92\n",
      "mpg ~ disp + hp + drat + wt + qsec + vs + am + gear + carb\n",
      "\n",
      "       Df Sum of Sq    RSS    AIC\n",
      "- vs    1    0.2685 147.84 66.973\n",
      "- carb  1    0.5201 148.09 67.028\n",
      "- gear  1    1.8211 149.40 67.308\n",
      "- drat  1    1.9826 149.56 67.342\n",
      "- disp  1    3.9009 151.47 67.750\n",
      "- hp    1    7.3632 154.94 68.473\n",
      "<none>              147.57 68.915\n",
      "- qsec  1   10.0933 157.67 69.032\n",
      "- am    1   11.8359 159.41 69.384\n",
      "- wt    1   27.0280 174.60 72.297\n",
      "\n",
      "Step:  AIC=66.97\n",
      "mpg ~ disp + hp + drat + wt + qsec + am + gear + carb\n",
      "\n",
      "       Df Sum of Sq    RSS    AIC\n",
      "- carb  1    0.6855 148.53 65.121\n",
      "- gear  1    2.1437 149.99 65.434\n",
      "- drat  1    2.2139 150.06 65.449\n",
      "- disp  1    3.6467 151.49 65.753\n",
      "- hp    1    7.1060 154.95 66.475\n",
      "<none>              147.84 66.973\n",
      "- am    1   11.5694 159.41 67.384\n",
      "- qsec  1   15.6830 163.53 68.200\n",
      "- wt    1   27.3799 175.22 70.410\n",
      "\n",
      "Step:  AIC=65.12\n",
      "mpg ~ disp + hp + drat + wt + qsec + am + gear\n",
      "\n",
      "       Df Sum of Sq    RSS    AIC\n",
      "- gear  1     1.565 150.09 63.457\n",
      "- drat  1     1.932 150.46 63.535\n",
      "<none>              148.53 65.121\n",
      "- disp  1    10.110 158.64 65.229\n",
      "- am    1    12.323 160.85 65.672\n",
      "- hp    1    14.826 163.35 66.166\n",
      "- qsec  1    26.408 174.94 68.358\n",
      "- wt    1    69.127 217.66 75.350\n",
      "\n",
      "Step:  AIC=63.46\n",
      "mpg ~ disp + hp + drat + wt + qsec + am\n",
      "\n",
      "       Df Sum of Sq    RSS    AIC\n",
      "- drat  1     3.345 153.44 62.162\n",
      "- disp  1     8.545 158.64 63.229\n",
      "<none>              150.09 63.457\n",
      "- hp    1    13.285 163.38 64.171\n",
      "- am    1    20.036 170.13 65.466\n",
      "- qsec  1    25.574 175.67 66.491\n",
      "- wt    1    67.572 217.66 73.351\n",
      "\n",
      "Step:  AIC=62.16\n",
      "mpg ~ disp + hp + wt + qsec + am\n",
      "\n",
      "       Df Sum of Sq    RSS    AIC\n",
      "- disp  1     6.629 160.07 61.515\n",
      "<none>              153.44 62.162\n",
      "- hp    1    12.572 166.01 62.682\n",
      "- qsec  1    26.470 179.91 65.255\n",
      "- am    1    32.198 185.63 66.258\n",
      "- wt    1    69.043 222.48 72.051\n",
      "\n",
      "Step:  AIC=61.52\n",
      "mpg ~ hp + wt + qsec + am\n",
      "\n",
      "       Df Sum of Sq    RSS    AIC\n",
      "- hp    1     9.219 169.29 61.307\n",
      "<none>              160.07 61.515\n",
      "- qsec  1    20.225 180.29 63.323\n",
      "- am    1    25.993 186.06 64.331\n",
      "- wt    1    78.494 238.56 72.284\n",
      "\n",
      "Step:  AIC=61.31\n",
      "mpg ~ wt + qsec + am\n",
      "\n",
      "       Df Sum of Sq    RSS    AIC\n",
      "<none>              169.29 61.307\n",
      "- am    1    26.178 195.46 63.908\n",
      "- qsec  1   109.034 278.32 75.217\n",
      "- wt    1   183.347 352.63 82.790\n"
     ]
    },
    {
     "data": {
      "text/plain": [
       "\n",
       "Call:\n",
       "lm(formula = mpg ~ wt + qsec + am, data = mtcars)\n",
       "\n",
       "Coefficients:\n",
       "(Intercept)           wt         qsec           am  \n",
       "      9.618       -3.917        1.226        2.936  \n"
      ]
     },
     "metadata": {},
     "output_type": "display_data"
    }
   ],
   "source": [
    "step(Fitall, direction=\"backward\")"
   ]
  },
  {
   "cell_type": "markdown",
   "id": "b90a5da5",
   "metadata": {},
   "source": [
    "#### the lower the AIC, the better the fit is for the predictors for the model. Scroll to the bottom, and none in carats is at the top of the list, and no more predictors can be removed to lower the AIC."
   ]
  },
  {
   "cell_type": "markdown",
   "id": "d1c5f303",
   "metadata": {},
   "source": [
    "#### AIC stands for Akaike Information Criteria. It was invented by a Japanese statistician named Hirotugu Akaike in the 1970's. The AIC is a measure of relative quality of a model. However, it doesn't tell you if a model is any good or not. It simply helps you to compare two or more models against each other. When comparing two models, the model with the smaller AIC is generally accepted to be the better of the two models. In the case of the mtcars data, the start AIC of 70.9 is for the original model with all ten predictors."
   ]
  },
  {
   "cell_type": "markdown",
   "id": "cf4ad957",
   "metadata": {},
   "source": [
    "#### The table has been sorted from smallest AIC at the top to largest AIC at the bottom. The takeaway from this table is as follows: Of all the models with just 9 predictors, it would appear that the model that excludes cyl is the best, because it has the smallest AIC.\n",
    "\n",
    "Before moving on, there are a couple important points to make:\n",
    "\n",
    "You don't really know if the model with cyl removed is any good or not, you just know that it is better than all the other models with a single predictor removed.\n",
    "\n",
    "You might assume at this point that all of the terms above the row with \"\" could easily be removed. Since individually removing each of those rows makes for a better model, why not just remove all of them in one fell swoop, just to save time? This is actually an erroneous thought process. The power of stepwise regression is that each iteration evaluates a model in the presence or absence of the other terms in the model. This will be illustrated shortly based on the fact that at this first iteration, it might appear that the only terms that belong in the model are wt and am."
   ]
  },
  {
   "cell_type": "markdown",
   "id": "c8034275",
   "metadata": {},
   "source": [
    "#### above refers to collinearity and the relationship or influence one variable may have on another variable."
   ]
  },
  {
   "cell_type": "markdown",
   "id": "709f6895",
   "metadata": {},
   "source": [
    "#### Have you been paying attention to the models below the <none> row in each table? Remember, the interpretation of those rows is that if those variables get removed, the model will actually be a bit worse than the current model. Have you noticed that at each iteration, the variables below the <none> line are not always the same variables?"
   ]
  },
  {
   "cell_type": "markdown",
   "id": "ba843505",
   "metadata": {},
   "source": [
    "### WHY"
   ]
  },
  {
   "cell_type": "markdown",
   "id": "329b85ed",
   "metadata": {},
   "source": [
    "#### If you look for a description of the mtcars dataset on the web, you will discover that wt is the weight of the car in thousands of pounds, qsec is the time it takes for the car to cover 1/4 mile from rest, and am is a coded variable for the type of transmission (0 for automatic, and 1 for manual)."
   ]
  },
  {
   "cell_type": "markdown",
   "id": "13696eaf",
   "metadata": {},
   "source": [
    "#### According to the output table, the model that includes all three of those variables is better than any of the three models that omits one of those three variables. You are done with creating a model using backward elimination. If you haven't reached this conclusion on your own, don't worry, R has reached it for you.This output tells you that the best model for the mtcars data uses wt, qsec, and am to predict the mpg for a car, using the following equation:\n",
    "\n",
    "mpg = 9.618 + (-3.917) _ wt + 1.226 _ qsec + 2.936 \\* am\n",
    "\n",
    "Pay attention to the signs of the coefficients for a moment:\n",
    "\n",
    "The coefficient of wt is (-3.917). What that means is as long as everything else is equal, an increase of a car's weight by 1000 lbs will lead to an estimated decrease in the car's mpg by about 3.9 miles per gallon of gas.\n",
    "The coefficient of qsec is 1.226. Everything else being equal, as a car's qsec increases, so does the mpg. Does that make sense? Well, yes - if the qsec is larger, that means the car is slower off the start. If you know anything about cars, more power is usually associated with more speed, which is usually associated with worse gas mileage. In this case, you are being told that less power leads to higher gas mileage - for every additional second it takes to run a quarter mile, the gas mileage is improved by about 1.2 miles per gallon. It is pretty much an accepted fact that gutless cars get better gas mileage than fast cars.\n",
    "The coefficient for the transmission type indicates that all other things being equal, two identical cars where one is an automatic transmission and one is a manual transmission will have different miles per gallon ratings. The manual transmission should get around 3 mpg better mileage than the automatic transmission. "
   ]
  },
  {
   "cell_type": "markdown",
   "id": "752a6e3a",
   "metadata": {},
   "source": [
    "#### So now you have a model. Is it any good? You know it is the best model you could find using backward elimination, but is it any good?\n",
    "\n",
    "You can determine this by creating a new model with just those variables and then looking at the summary. You will create a new function called fitsome, which will just have the terms you are interested in:"
   ]
  },
  {
   "cell_type": "code",
   "execution_count": 11,
   "id": "350ac1f4",
   "metadata": {},
   "outputs": [],
   "source": [
    "fitsome = lm(mpg~am + qsec + wt, data=mtcars)"
   ]
  },
  {
   "cell_type": "code",
   "execution_count": 12,
   "id": "f958662e",
   "metadata": {},
   "outputs": [
    {
     "data": {
      "text/plain": [
       "\n",
       "Call:\n",
       "lm(formula = mpg ~ am + qsec + wt, data = mtcars)\n",
       "\n",
       "Residuals:\n",
       "    Min      1Q  Median      3Q     Max \n",
       "-3.4811 -1.5555 -0.7257  1.4110  4.6610 \n",
       "\n",
       "Coefficients:\n",
       "            Estimate Std. Error t value Pr(>|t|)    \n",
       "(Intercept)   9.6178     6.9596   1.382 0.177915    \n",
       "am            2.9358     1.4109   2.081 0.046716 *  \n",
       "qsec          1.2259     0.2887   4.247 0.000216 ***\n",
       "wt           -3.9165     0.7112  -5.507 6.95e-06 ***\n",
       "---\n",
       "Signif. codes:  0 '***' 0.001 '**' 0.01 '*' 0.05 '.' 0.1 ' ' 1\n",
       "\n",
       "Residual standard error: 2.459 on 28 degrees of freedom\n",
       "Multiple R-squared:  0.8497,\tAdjusted R-squared:  0.8336 \n",
       "F-statistic: 52.75 on 3 and 28 DF,  p-value: 1.21e-11\n"
      ]
     },
     "metadata": {},
     "output_type": "display_data"
    }
   ],
   "source": [
    "summary(fitsome)"
   ]
  },
  {
   "cell_type": "markdown",
   "id": "610aa6ce",
   "metadata": {},
   "source": [
    "#### There are a few things to note here from the above output:\n",
    "\n",
    "There are coefficients for just the three predictor variables, as well as an intercept.\n",
    "There is a multiple R2 = 0.8497. The practical interpretation of this is that the model explains 84.97% of the variation in the mpg variable, and there is another 15.03% of the variation that can be chalked up to noise or random error.\n",
    "There is an adjusted R2 = 0.8336. The adjustment is a modification that is supposed to take into account the number of terms in the model. For your purpose, you are more interested in the adjusted R2 than the multiple R2.\n",
    "There is an F-statistic (52.75 with 3 and 28 degrees of freedom) and a p value of 0.0000000000121 (this is represented in scientific notation in R) which indicates that the model is better than no model at all, because the p value is less than 0.05.\n",
    "So, have you really gained anything by doing the backward elimination? To the untrained eye, one might say \"no gain.\" The R2 values are very similar, and both models are statistically significant. However, to the trained eye, you have adhered to the \"Principle of Parsimony\" and come up with an equally good (maybe marginally better) model that is much simpler. Further, now all of your individual predictors are significant! Mission accomplished.\n",
    "\n"
   ]
  },
  {
   "cell_type": "code",
   "execution_count": null,
   "id": "73035f93",
   "metadata": {},
   "outputs": [],
   "source": []
  }
 ],
 "metadata": {
  "kernelspec": {
   "display_name": "R",
   "language": "R",
   "name": "ir"
  },
  "language_info": {
   "codemirror_mode": "r",
   "file_extension": ".r",
   "mimetype": "text/x-r-source",
   "name": "R",
   "pygments_lexer": "r",
   "version": "4.1.1"
  }
 },
 "nbformat": 4,
 "nbformat_minor": 5
}
